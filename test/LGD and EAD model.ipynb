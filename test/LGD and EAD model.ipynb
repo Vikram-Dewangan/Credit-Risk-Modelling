{
 "cells": [
  {
   "cell_type": "markdown",
   "id": "5d63f253-bf0a-4a6d-a1a2-51488c1a42a1",
   "metadata": {},
   "source": [
    "## Import Libraries"
   ]
  },
  {
   "cell_type": "code",
   "execution_count": 1,
   "id": "f11ab546-a274-4273-a9c8-57545d2dd3dd",
   "metadata": {},
   "outputs": [],
   "source": [
    "import numpy as np\n",
    "import pandas as pd\n",
    "import matplotlib.pyplot as plt\n",
    "%matplotlib inline\n",
    "import seaborn as sns\n",
    "\n",
    "import warnings\n",
    "warnings.filterwarnings('ignore')"
   ]
  },
  {
   "cell_type": "markdown",
   "id": "1589d2c0-819c-4403-a92a-35c03477b011",
   "metadata": {},
   "source": [
    "## Import Data"
   ]
  },
  {
   "cell_type": "code",
   "execution_count": 2,
   "id": "66cce636-2507-43c4-ad9e-91421024e026",
   "metadata": {},
   "outputs": [],
   "source": [
    "loan_data_preprocessed_backup = pd.read_csv('loan_data_2007_2014_preprocessed.csv')"
   ]
  },
  {
   "cell_type": "code",
   "execution_count": 142,
   "id": "005d4415-3f9f-4a45-bda4-0b1b14d51b7a",
   "metadata": {},
   "outputs": [],
   "source": [
    "loan_data_preprocessed = loan_data_preprocessed_backup.copy()"
   ]
  },
  {
   "cell_type": "markdown",
   "id": "03b5a8a3-d655-40e5-adb4-f0bc84a85a3e",
   "metadata": {},
   "source": [
    "## Bird Eye View"
   ]
  },
  {
   "cell_type": "code",
   "execution_count": 143,
   "id": "a5616ddf-d845-47c5-965b-22ed04816086",
   "metadata": {},
   "outputs": [
    {
     "data": {
      "text/html": [
       "<div>\n",
       "<style scoped>\n",
       "    .dataframe tbody tr th:only-of-type {\n",
       "        vertical-align: middle;\n",
       "    }\n",
       "\n",
       "    .dataframe tbody tr th {\n",
       "        vertical-align: top;\n",
       "    }\n",
       "\n",
       "    .dataframe thead th {\n",
       "        text-align: right;\n",
       "    }\n",
       "</style>\n",
       "<table border=\"1\" class=\"dataframe\">\n",
       "  <thead>\n",
       "    <tr style=\"text-align: right;\">\n",
       "      <th></th>\n",
       "      <th>Unnamed: 0.1</th>\n",
       "      <th>Unnamed: 0</th>\n",
       "      <th>id</th>\n",
       "      <th>member_id</th>\n",
       "      <th>loan_amnt</th>\n",
       "      <th>funded_amnt</th>\n",
       "      <th>funded_amnt_inv</th>\n",
       "      <th>term</th>\n",
       "      <th>int_rate</th>\n",
       "      <th>installment</th>\n",
       "      <th>...</th>\n",
       "      <th>addr_state:UT</th>\n",
       "      <th>addr_state:VA</th>\n",
       "      <th>addr_state:VT</th>\n",
       "      <th>addr_state:WA</th>\n",
       "      <th>addr_state:WI</th>\n",
       "      <th>addr_state:WV</th>\n",
       "      <th>addr_state:WY</th>\n",
       "      <th>initial_list_status:f</th>\n",
       "      <th>initial_list_status:w</th>\n",
       "      <th>good_bad</th>\n",
       "    </tr>\n",
       "  </thead>\n",
       "  <tbody>\n",
       "    <tr>\n",
       "      <th>0</th>\n",
       "      <td>0</td>\n",
       "      <td>0</td>\n",
       "      <td>1077501</td>\n",
       "      <td>1296599</td>\n",
       "      <td>5000</td>\n",
       "      <td>5000</td>\n",
       "      <td>4975.0</td>\n",
       "      <td>36 months</td>\n",
       "      <td>10.65</td>\n",
       "      <td>162.87</td>\n",
       "      <td>...</td>\n",
       "      <td>0</td>\n",
       "      <td>0</td>\n",
       "      <td>0</td>\n",
       "      <td>0</td>\n",
       "      <td>0</td>\n",
       "      <td>0</td>\n",
       "      <td>0</td>\n",
       "      <td>1</td>\n",
       "      <td>0</td>\n",
       "      <td>1</td>\n",
       "    </tr>\n",
       "    <tr>\n",
       "      <th>1</th>\n",
       "      <td>1</td>\n",
       "      <td>1</td>\n",
       "      <td>1077430</td>\n",
       "      <td>1314167</td>\n",
       "      <td>2500</td>\n",
       "      <td>2500</td>\n",
       "      <td>2500.0</td>\n",
       "      <td>60 months</td>\n",
       "      <td>15.27</td>\n",
       "      <td>59.83</td>\n",
       "      <td>...</td>\n",
       "      <td>0</td>\n",
       "      <td>0</td>\n",
       "      <td>0</td>\n",
       "      <td>0</td>\n",
       "      <td>0</td>\n",
       "      <td>0</td>\n",
       "      <td>0</td>\n",
       "      <td>1</td>\n",
       "      <td>0</td>\n",
       "      <td>0</td>\n",
       "    </tr>\n",
       "    <tr>\n",
       "      <th>2</th>\n",
       "      <td>2</td>\n",
       "      <td>2</td>\n",
       "      <td>1077175</td>\n",
       "      <td>1313524</td>\n",
       "      <td>2400</td>\n",
       "      <td>2400</td>\n",
       "      <td>2400.0</td>\n",
       "      <td>36 months</td>\n",
       "      <td>15.96</td>\n",
       "      <td>84.33</td>\n",
       "      <td>...</td>\n",
       "      <td>0</td>\n",
       "      <td>0</td>\n",
       "      <td>0</td>\n",
       "      <td>0</td>\n",
       "      <td>0</td>\n",
       "      <td>0</td>\n",
       "      <td>0</td>\n",
       "      <td>1</td>\n",
       "      <td>0</td>\n",
       "      <td>1</td>\n",
       "    </tr>\n",
       "    <tr>\n",
       "      <th>3</th>\n",
       "      <td>3</td>\n",
       "      <td>3</td>\n",
       "      <td>1076863</td>\n",
       "      <td>1277178</td>\n",
       "      <td>10000</td>\n",
       "      <td>10000</td>\n",
       "      <td>10000.0</td>\n",
       "      <td>36 months</td>\n",
       "      <td>13.49</td>\n",
       "      <td>339.31</td>\n",
       "      <td>...</td>\n",
       "      <td>0</td>\n",
       "      <td>0</td>\n",
       "      <td>0</td>\n",
       "      <td>0</td>\n",
       "      <td>0</td>\n",
       "      <td>0</td>\n",
       "      <td>0</td>\n",
       "      <td>1</td>\n",
       "      <td>0</td>\n",
       "      <td>1</td>\n",
       "    </tr>\n",
       "    <tr>\n",
       "      <th>4</th>\n",
       "      <td>4</td>\n",
       "      <td>4</td>\n",
       "      <td>1075358</td>\n",
       "      <td>1311748</td>\n",
       "      <td>3000</td>\n",
       "      <td>3000</td>\n",
       "      <td>3000.0</td>\n",
       "      <td>60 months</td>\n",
       "      <td>12.69</td>\n",
       "      <td>67.79</td>\n",
       "      <td>...</td>\n",
       "      <td>0</td>\n",
       "      <td>0</td>\n",
       "      <td>0</td>\n",
       "      <td>0</td>\n",
       "      <td>0</td>\n",
       "      <td>0</td>\n",
       "      <td>0</td>\n",
       "      <td>1</td>\n",
       "      <td>0</td>\n",
       "      <td>1</td>\n",
       "    </tr>\n",
       "  </tbody>\n",
       "</table>\n",
       "<p>5 rows × 209 columns</p>\n",
       "</div>"
      ],
      "text/plain": [
       "   Unnamed: 0.1  Unnamed: 0       id  member_id  loan_amnt  funded_amnt  \\\n",
       "0             0           0  1077501    1296599       5000         5000   \n",
       "1             1           1  1077430    1314167       2500         2500   \n",
       "2             2           2  1077175    1313524       2400         2400   \n",
       "3             3           3  1076863    1277178      10000        10000   \n",
       "4             4           4  1075358    1311748       3000         3000   \n",
       "\n",
       "   funded_amnt_inv        term  int_rate  installment  ... addr_state:UT  \\\n",
       "0           4975.0   36 months     10.65       162.87  ...             0   \n",
       "1           2500.0   60 months     15.27        59.83  ...             0   \n",
       "2           2400.0   36 months     15.96        84.33  ...             0   \n",
       "3          10000.0   36 months     13.49       339.31  ...             0   \n",
       "4           3000.0   60 months     12.69        67.79  ...             0   \n",
       "\n",
       "  addr_state:VA addr_state:VT addr_state:WA addr_state:WI  addr_state:WV  \\\n",
       "0             0             0             0             0              0   \n",
       "1             0             0             0             0              0   \n",
       "2             0             0             0             0              0   \n",
       "3             0             0             0             0              0   \n",
       "4             0             0             0             0              0   \n",
       "\n",
       "  addr_state:WY initial_list_status:f initial_list_status:w good_bad  \n",
       "0             0                     1                     0        1  \n",
       "1             0                     1                     0        0  \n",
       "2             0                     1                     0        1  \n",
       "3             0                     1                     0        1  \n",
       "4             0                     1                     0        1  \n",
       "\n",
       "[5 rows x 209 columns]"
      ]
     },
     "execution_count": 143,
     "metadata": {},
     "output_type": "execute_result"
    }
   ],
   "source": [
    "loan_data_preprocessed.head()"
   ]
  },
  {
   "cell_type": "code",
   "execution_count": 144,
   "id": "25fe9229-03bf-4aaa-bfd0-400682faefce",
   "metadata": {},
   "outputs": [
    {
     "data": {
      "text/plain": [
       "array(['Fully Paid', 'Charged Off', 'Current', 'Default',\n",
       "       'Late (31-120 days)', 'In Grace Period', 'Late (16-30 days)',\n",
       "       'Does not meet the credit policy. Status:Fully Paid',\n",
       "       'Does not meet the credit policy. Status:Charged Off'],\n",
       "      dtype=object)"
      ]
     },
     "execution_count": 144,
     "metadata": {},
     "output_type": "execute_result"
    }
   ],
   "source": [
    "loan_data_preprocessed['loan_status'].unique()"
   ]
  },
  {
   "cell_type": "code",
   "execution_count": 145,
   "id": "388fe3d5-5c94-42f7-a389-ee514ff38dce",
   "metadata": {},
   "outputs": [],
   "source": [
    "#Keeping only those data which are defaulted and had enough time to repay\n",
    "loan_data_defaults = loan_data_preprocessed[loan_data_preprocessed['loan_status'].isin(\n",
    "    ['Charged Off', 'Does not meet the credit policy. Status:Charged Off']\n",
    ")]"
   ]
  },
  {
   "cell_type": "code",
   "execution_count": 146,
   "id": "20378b9b-bc4b-4a67-b0f8-bc042f59b9e2",
   "metadata": {},
   "outputs": [
    {
     "data": {
      "text/plain": [
       "(43236, 209)"
      ]
     },
     "execution_count": 146,
     "metadata": {},
     "output_type": "execute_result"
    }
   ],
   "source": [
    "loan_data_defaults.shape"
   ]
  },
  {
   "cell_type": "code",
   "execution_count": 147,
   "id": "e32c9859-2a87-498e-b925-4b5612735c8d",
   "metadata": {},
   "outputs": [],
   "source": [
    "pd.options.display.max_rows = None"
   ]
  },
  {
   "cell_type": "code",
   "execution_count": 148,
   "id": "d7365918-ec3d-4abb-85d6-a19a5dc652a5",
   "metadata": {},
   "outputs": [
    {
     "data": {
      "text/plain": [
       "Unnamed: 0.1                                                           0\n",
       "Unnamed: 0                                                             0\n",
       "id                                                                     0\n",
       "member_id                                                              0\n",
       "loan_amnt                                                              0\n",
       "funded_amnt                                                            0\n",
       "funded_amnt_inv                                                        0\n",
       "term                                                                   0\n",
       "int_rate                                                               0\n",
       "installment                                                            0\n",
       "grade                                                                  0\n",
       "sub_grade                                                              0\n",
       "emp_title                                                           3287\n",
       "emp_length                                                          2337\n",
       "home_ownership                                                         0\n",
       "annual_inc                                                             0\n",
       "verification_status                                                    0\n",
       "issue_d                                                                0\n",
       "loan_status                                                            0\n",
       "pymnt_plan                                                             0\n",
       "url                                                                    0\n",
       "desc                                                               27396\n",
       "purpose                                                                0\n",
       "title                                                                  3\n",
       "zip_code                                                               0\n",
       "addr_state                                                             0\n",
       "dti                                                                    0\n",
       "delinq_2yrs                                                            0\n",
       "earliest_cr_line                                                       3\n",
       "inq_last_6mths                                                         0\n",
       "mths_since_last_delinq                                             23950\n",
       "mths_since_last_record                                             37821\n",
       "open_acc                                                               0\n",
       "pub_rec                                                                0\n",
       "revol_bal                                                              0\n",
       "revol_util                                                            53\n",
       "total_acc                                                              0\n",
       "initial_list_status                                                    0\n",
       "out_prncp                                                              0\n",
       "out_prncp_inv                                                          0\n",
       "total_pymnt                                                            0\n",
       "total_pymnt_inv                                                        0\n",
       "total_rec_prncp                                                        0\n",
       "total_rec_int                                                          0\n",
       "total_rec_late_fee                                                     0\n",
       "recoveries                                                             0\n",
       "collection_recovery_fee                                                0\n",
       "last_pymnt_d                                                         376\n",
       "last_pymnt_amnt                                                        0\n",
       "next_pymnt_d                                                       42475\n",
       "last_credit_pull_d                                                     6\n",
       "collections_12_mths_ex_med                                            28\n",
       "mths_since_last_major_derog                                        35283\n",
       "policy_code                                                            0\n",
       "application_type                                                       0\n",
       "annual_inc_joint                                                   43236\n",
       "dti_joint                                                          43236\n",
       "verification_status_joint                                          43236\n",
       "acc_now_delinq                                                         0\n",
       "tot_coll_amt                                                       10780\n",
       "tot_cur_bal                                                        10780\n",
       "open_acc_6m                                                        43236\n",
       "open_il_6m                                                         43236\n",
       "open_il_12m                                                        43236\n",
       "open_il_24m                                                        43236\n",
       "mths_since_rcnt_il                                                 43236\n",
       "total_bal_il                                                       43236\n",
       "il_util                                                            43236\n",
       "open_rv_12m                                                        43236\n",
       "open_rv_24m                                                        43236\n",
       "max_bal_bc                                                         43236\n",
       "all_util                                                           43236\n",
       "total_rev_hi_lim                                                       0\n",
       "inq_fi                                                             43236\n",
       "total_cu_tl                                                        43236\n",
       "inq_last_12m                                                       43236\n",
       "emp_length_int                                                         0\n",
       "earliest_cr_line_date                                                  3\n",
       "mths_since_earliest_cr_line                                            0\n",
       "term_int                                                               0\n",
       "issue_d_date                                                           0\n",
       "mths_since_issue_d                                                     0\n",
       "grade:A                                                                0\n",
       "grade:B                                                                0\n",
       "grade:C                                                                0\n",
       "grade:D                                                                0\n",
       "grade:E                                                                0\n",
       "grade:F                                                                0\n",
       "grade:G                                                                0\n",
       "sub_grade:A1                                                           0\n",
       "sub_grade:A2                                                           0\n",
       "sub_grade:A3                                                           0\n",
       "sub_grade:A4                                                           0\n",
       "sub_grade:A5                                                           0\n",
       "sub_grade:B1                                                           0\n",
       "sub_grade:B2                                                           0\n",
       "sub_grade:B3                                                           0\n",
       "sub_grade:B4                                                           0\n",
       "sub_grade:B5                                                           0\n",
       "sub_grade:C1                                                           0\n",
       "sub_grade:C2                                                           0\n",
       "sub_grade:C3                                                           0\n",
       "sub_grade:C4                                                           0\n",
       "sub_grade:C5                                                           0\n",
       "sub_grade:D1                                                           0\n",
       "sub_grade:D2                                                           0\n",
       "sub_grade:D3                                                           0\n",
       "sub_grade:D4                                                           0\n",
       "sub_grade:D5                                                           0\n",
       "sub_grade:E1                                                           0\n",
       "sub_grade:E2                                                           0\n",
       "sub_grade:E3                                                           0\n",
       "sub_grade:E4                                                           0\n",
       "sub_grade:E5                                                           0\n",
       "sub_grade:F1                                                           0\n",
       "sub_grade:F2                                                           0\n",
       "sub_grade:F3                                                           0\n",
       "sub_grade:F4                                                           0\n",
       "sub_grade:F5                                                           0\n",
       "sub_grade:G1                                                           0\n",
       "sub_grade:G2                                                           0\n",
       "sub_grade:G3                                                           0\n",
       "sub_grade:G4                                                           0\n",
       "sub_grade:G5                                                           0\n",
       "home_ownership:ANY                                                     0\n",
       "home_ownership:MORTGAGE                                                0\n",
       "home_ownership:NONE                                                    0\n",
       "home_ownership:OTHER                                                   0\n",
       "home_ownership:OWN                                                     0\n",
       "home_ownership:RENT                                                    0\n",
       "verification_status:Not Verified                                       0\n",
       "verification_status:Source Verified                                    0\n",
       "verification_status:Verified                                           0\n",
       "loan_status:Charged Off                                                0\n",
       "loan_status:Current                                                    0\n",
       "loan_status:Default                                                    0\n",
       "loan_status:Does not meet the credit policy. Status:Charged Off        0\n",
       "loan_status:Does not meet the credit policy. Status:Fully Paid         0\n",
       "loan_status:Fully Paid                                                 0\n",
       "loan_status:In Grace Period                                            0\n",
       "loan_status:Late (16-30 days)                                          0\n",
       "loan_status:Late (31-120 days)                                         0\n",
       "purpose:car                                                            0\n",
       "purpose:credit_card                                                    0\n",
       "purpose:debt_consolidation                                             0\n",
       "purpose:educational                                                    0\n",
       "purpose:home_improvement                                               0\n",
       "purpose:house                                                          0\n",
       "purpose:major_purchase                                                 0\n",
       "purpose:medical                                                        0\n",
       "purpose:moving                                                         0\n",
       "purpose:other                                                          0\n",
       "purpose:renewable_energy                                               0\n",
       "purpose:small_business                                                 0\n",
       "purpose:vacation                                                       0\n",
       "purpose:wedding                                                        0\n",
       "addr_state:AK                                                          0\n",
       "addr_state:AL                                                          0\n",
       "addr_state:AR                                                          0\n",
       "addr_state:AZ                                                          0\n",
       "addr_state:CA                                                          0\n",
       "addr_state:CO                                                          0\n",
       "addr_state:CT                                                          0\n",
       "addr_state:DC                                                          0\n",
       "addr_state:DE                                                          0\n",
       "addr_state:FL                                                          0\n",
       "addr_state:GA                                                          0\n",
       "addr_state:HI                                                          0\n",
       "addr_state:IA                                                          0\n",
       "addr_state:ID                                                          0\n",
       "addr_state:IL                                                          0\n",
       "addr_state:IN                                                          0\n",
       "addr_state:KS                                                          0\n",
       "addr_state:KY                                                          0\n",
       "addr_state:LA                                                          0\n",
       "addr_state:MA                                                          0\n",
       "addr_state:MD                                                          0\n",
       "addr_state:ME                                                          0\n",
       "addr_state:MI                                                          0\n",
       "addr_state:MN                                                          0\n",
       "addr_state:MO                                                          0\n",
       "addr_state:MS                                                          0\n",
       "addr_state:MT                                                          0\n",
       "addr_state:NC                                                          0\n",
       "addr_state:NE                                                          0\n",
       "addr_state:NH                                                          0\n",
       "addr_state:NJ                                                          0\n",
       "addr_state:NM                                                          0\n",
       "addr_state:NV                                                          0\n",
       "addr_state:NY                                                          0\n",
       "addr_state:OH                                                          0\n",
       "addr_state:OK                                                          0\n",
       "addr_state:OR                                                          0\n",
       "addr_state:PA                                                          0\n",
       "addr_state:RI                                                          0\n",
       "addr_state:SC                                                          0\n",
       "addr_state:SD                                                          0\n",
       "addr_state:TN                                                          0\n",
       "addr_state:TX                                                          0\n",
       "addr_state:UT                                                          0\n",
       "addr_state:VA                                                          0\n",
       "addr_state:VT                                                          0\n",
       "addr_state:WA                                                          0\n",
       "addr_state:WI                                                          0\n",
       "addr_state:WV                                                          0\n",
       "addr_state:WY                                                          0\n",
       "initial_list_status:f                                                  0\n",
       "initial_list_status:w                                                  0\n",
       "good_bad                                                               0\n",
       "dtype: int64"
      ]
     },
     "execution_count": 148,
     "metadata": {},
     "output_type": "execute_result"
    }
   ],
   "source": [
    "loan_data_defaults.isnull().sum()"
   ]
  },
  {
   "cell_type": "code",
   "execution_count": 149,
   "id": "bbb41614-bbf9-4c28-b11a-3af4973e88f3",
   "metadata": {},
   "outputs": [],
   "source": [
    "#Incorporating conservatism, hence filling with 0\n",
    "loan_data_defaults['mths_since_last_delinq'].fillna(0, inplace = True)\n",
    "loan_data_defaults['mths_since_last_record'].fillna(0, inplace = True)"
   ]
  },
  {
   "cell_type": "code",
   "execution_count": 150,
   "id": "599534fb-9fc8-48de-a5f2-d4bc9aad439c",
   "metadata": {},
   "outputs": [
    {
     "data": {
      "text/plain": [
       "0"
      ]
     },
     "execution_count": 150,
     "metadata": {},
     "output_type": "execute_result"
    }
   ],
   "source": [
    "loan_data_defaults['mths_since_last_delinq'].isnull().sum()"
   ]
  },
  {
   "cell_type": "markdown",
   "id": "c89726fe-b46b-4ff1-a028-6d471000f626",
   "metadata": {},
   "source": [
    "#### Dependent variable"
   ]
  },
  {
   "cell_type": "code",
   "execution_count": 151,
   "id": "335c50ba-c694-48c0-a012-9618534461c6",
   "metadata": {},
   "outputs": [],
   "source": [
    "#funded_amnt : total amount that was lost the moment borrower defaulted"
   ]
  },
  {
   "cell_type": "code",
   "execution_count": 152,
   "id": "3c149d46-eb52-46dd-a168-8ce8f57f782a",
   "metadata": {},
   "outputs": [],
   "source": [
    "loan_data_defaults['recovery_rate'] = loan_data_defaults['recoveries'] / loan_data_defaults['funded_amnt']"
   ]
  },
  {
   "cell_type": "code",
   "execution_count": 153,
   "id": "f7cd5520-719a-4868-b7fe-fd97fd2b7778",
   "metadata": {},
   "outputs": [
    {
     "data": {
      "text/plain": [
       "count    43236.000000\n",
       "mean         0.060820\n",
       "std          0.089770\n",
       "min          0.000000\n",
       "25%          0.000000\n",
       "50%          0.029466\n",
       "75%          0.114044\n",
       "max          1.220774\n",
       "Name: recovery_rate, dtype: float64"
      ]
     },
     "execution_count": 153,
     "metadata": {},
     "output_type": "execute_result"
    }
   ],
   "source": [
    "loan_data_defaults['recovery_rate'].describe()"
   ]
  },
  {
   "cell_type": "code",
   "execution_count": 154,
   "id": "c05589fb-94e4-4471-8d74-9c9f5ce522f9",
   "metadata": {},
   "outputs": [],
   "source": [
    "#We need to cap the value at 1 and flooring is not required since minimum is 0"
   ]
  },
  {
   "cell_type": "code",
   "execution_count": 155,
   "id": "0fd9f7a1-30db-48cd-902e-656b456c8289",
   "metadata": {},
   "outputs": [],
   "source": [
    "loan_data_defaults['recovery_rate'] = np.where(loan_data_defaults['recovery_rate'] > 1, 1,\n",
    "                                              loan_data_defaults['recovery_rate'])\n",
    "#doing it if data changes\n",
    "loan_data_defaults['recovery_rate'] = np.where(loan_data_defaults['recovery_rate'] < 0, 0,\n",
    "                                              loan_data_defaults['recovery_rate'])"
   ]
  },
  {
   "cell_type": "code",
   "execution_count": 156,
   "id": "6c3d341f-3496-4205-84dc-82c51f4cb188",
   "metadata": {},
   "outputs": [
    {
     "data": {
      "text/plain": [
       "count    43236.000000\n",
       "mean         0.060770\n",
       "std          0.089202\n",
       "min          0.000000\n",
       "25%          0.000000\n",
       "50%          0.029466\n",
       "75%          0.114044\n",
       "max          1.000000\n",
       "Name: recovery_rate, dtype: float64"
      ]
     },
     "execution_count": 156,
     "metadata": {},
     "output_type": "execute_result"
    }
   ],
   "source": [
    "loan_data_defaults['recovery_rate'].describe()"
   ]
  },
  {
   "cell_type": "code",
   "execution_count": 157,
   "id": "7b52e490-6689-4a6c-a3a3-373de75ae257",
   "metadata": {},
   "outputs": [],
   "source": [
    "#EAD"
   ]
  },
  {
   "cell_type": "code",
   "execution_count": 158,
   "id": "22eb67b3-c311-47d6-9179-333453fd64e1",
   "metadata": {},
   "outputs": [],
   "source": [
    "#Total recovered principal : reflects the total payments made on the principal of loan"
   ]
  },
  {
   "cell_type": "code",
   "execution_count": 159,
   "id": "75a98268-1008-4616-a913-b0aa8236da86",
   "metadata": {},
   "outputs": [],
   "source": [
    "loan_data_defaults['CCF'] = (\n",
    "    loan_data_defaults['funded_amnt'] - loan_data_defaults['total_rec_prncp']\n",
    ") / (\n",
    "    loan_data_defaults['funded_amnt']\n",
    ")"
   ]
  },
  {
   "cell_type": "code",
   "execution_count": 160,
   "id": "e67238d9-2bf2-4522-81dd-fb1054c7af55",
   "metadata": {},
   "outputs": [
    {
     "data": {
      "text/plain": [
       "count    43236.000000\n",
       "mean         0.735952\n",
       "std          0.200742\n",
       "min          0.000438\n",
       "25%          0.632088\n",
       "50%          0.789908\n",
       "75%          0.888543\n",
       "max          1.000000\n",
       "Name: CCF, dtype: float64"
      ]
     },
     "execution_count": 160,
     "metadata": {},
     "output_type": "execute_result"
    }
   ],
   "source": [
    "loan_data_defaults['CCF'].describe()"
   ]
  },
  {
   "cell_type": "code",
   "execution_count": 161,
   "id": "fff5f6a1-f4d1-41b2-826e-db55e95ac8d8",
   "metadata": {},
   "outputs": [],
   "source": [
    "loan_data_defaults.to_csv('loan_data_defaults.csv')"
   ]
  },
  {
   "cell_type": "code",
   "execution_count": 162,
   "id": "6df2d8f3-bff2-4a22-a10a-de1de163259f",
   "metadata": {},
   "outputs": [],
   "source": [
    "#Visulization"
   ]
  },
  {
   "cell_type": "code",
   "execution_count": 163,
   "id": "8df93155-c9a5-4406-8bb9-a68e544b6cce",
   "metadata": {},
   "outputs": [
    {
     "data": {
      "text/plain": [
       "(array([2.1023e+04, 1.8370e+03, 3.8730e+03, 1.3940e+03, 2.1330e+03,\n",
       "        3.3440e+03, 4.7650e+03, 1.7130e+03, 1.1790e+03, 4.0600e+02,\n",
       "        3.4100e+02, 2.7400e+02, 1.1700e+02, 9.3000e+01, 8.1000e+01,\n",
       "        7.3000e+01, 5.4000e+01, 7.2000e+01, 5.7000e+01, 3.0000e+01,\n",
       "        4.7000e+01, 2.7000e+01, 1.7000e+01, 1.5000e+01, 2.0000e+01,\n",
       "        2.3000e+01, 1.7000e+01, 7.0000e+00, 1.1000e+01, 7.0000e+00,\n",
       "        8.0000e+00, 7.0000e+00, 7.0000e+00, 8.0000e+00, 7.0000e+00,\n",
       "        1.0000e+01, 6.0000e+00, 1.1000e+01, 9.0000e+00, 9.0000e+00,\n",
       "        6.0000e+00, 6.0000e+00, 6.0000e+00, 3.0000e+00, 9.0000e+00,\n",
       "        9.0000e+00, 1.5000e+01, 8.0000e+00, 9.0000e+00, 3.3000e+01]),\n",
       " array([0.  , 0.02, 0.04, 0.06, 0.08, 0.1 , 0.12, 0.14, 0.16, 0.18, 0.2 ,\n",
       "        0.22, 0.24, 0.26, 0.28, 0.3 , 0.32, 0.34, 0.36, 0.38, 0.4 , 0.42,\n",
       "        0.44, 0.46, 0.48, 0.5 , 0.52, 0.54, 0.56, 0.58, 0.6 , 0.62, 0.64,\n",
       "        0.66, 0.68, 0.7 , 0.72, 0.74, 0.76, 0.78, 0.8 , 0.82, 0.84, 0.86,\n",
       "        0.88, 0.9 , 0.92, 0.94, 0.96, 0.98, 1.  ]),\n",
       " <BarContainer object of 50 artists>)"
      ]
     },
     "execution_count": 163,
     "metadata": {},
     "output_type": "execute_result"
    },
    {
     "data": {
      "image/png": "[encoded data removed]",
      "text/plain": [
       "<Figure size 640x480 with 1 Axes>"
      ]
     },
     "metadata": {},
     "output_type": "display_data"
    }
   ],
   "source": [
    "plt.hist(loan_data_defaults['recovery_rate'], bins = 50)"
   ]
  },
  {
   "cell_type": "code",
   "execution_count": 164,
   "id": "2f8536a3-601e-417f-a132-78d12cec0562",
   "metadata": {},
   "outputs": [
    {
     "data": {
      "text/plain": [
       "(array([  20.,   60.,   29.,   97.,   70.,   84.,  150.,   78.,  124.,\n",
       "         170.,  152.,  208.,  199.,  228.,  242.,  276.,  300.,  335.,\n",
       "         339.,  376.,  412.,  421.,  505.,  505.,  575.,  583.,  614.,\n",
       "         735.,  756.,  812.,  840.,  942.,  959., 1137., 1217., 1418.,\n",
       "        1431., 1580., 1732., 1850., 2003., 2151., 2123., 2376., 2447.,\n",
       "        2693., 2366., 2115., 1527.,  874.]),\n",
       " array([4.3800000e-04, 2.0429240e-02, 4.0420480e-02, 6.0411720e-02,\n",
       "        8.0402960e-02, 1.0039420e-01, 1.2038544e-01, 1.4037668e-01,\n",
       "        1.6036792e-01, 1.8035916e-01, 2.0035040e-01, 2.2034164e-01,\n",
       "        2.4033288e-01, 2.6032412e-01, 2.8031536e-01, 3.0030660e-01,\n",
       "        3.2029784e-01, 3.4028908e-01, 3.6028032e-01, 3.8027156e-01,\n",
       "        4.0026280e-01, 4.2025404e-01, 4.4024528e-01, 4.6023652e-01,\n",
       "        4.8022776e-01, 5.0021900e-01, 5.2021024e-01, 5.4020148e-01,\n",
       "        5.6019272e-01, 5.8018396e-01, 6.0017520e-01, 6.2016644e-01,\n",
       "        6.4015768e-01, 6.6014892e-01, 6.8014016e-01, 7.0013140e-01,\n",
       "        7.2012264e-01, 7.4011388e-01, 7.6010512e-01, 7.8009636e-01,\n",
       "        8.0008760e-01, 8.2007884e-01, 8.4007008e-01, 8.6006132e-01,\n",
       "        8.8005256e-01, 9.0004380e-01, 9.2003504e-01, 9.4002628e-01,\n",
       "        9.6001752e-01, 9.8000876e-01, 1.0000000e+00]),\n",
       " <BarContainer object of 50 artists>)"
      ]
     },
     "execution_count": 164,
     "metadata": {},
     "output_type": "execute_result"
    },
    {
     "data": {
      "image/png": "[encoded data removed]",
      "text/plain": [
       "<Figure size 640x480 with 1 Axes>"
      ]
     },
     "metadata": {},
     "output_type": "display_data"
    }
   ],
   "source": [
    "plt.hist(loan_data_defaults['CCF'], bins = 50)"
   ]
  },
  {
   "cell_type": "code",
   "execution_count": 165,
   "id": "5e507b7c-e73f-4aae-b9d6-525989547c85",
   "metadata": {},
   "outputs": [],
   "source": [
    "#To model recovery rate - We will follow two stage approach for recovery rate\n",
    "#1. Recovery rate >= 0 ------ Logistic Regression\n",
    "#2. If Recovery rate >= 0, how much exactly it is ------- Linear Regression"
   ]
  },
  {
   "cell_type": "code",
   "execution_count": 166,
   "id": "7a1d49f6-46a6-41e0-9ab1-df55f2ce2a1c",
   "metadata": {},
   "outputs": [],
   "source": [
    "loan_data_defaults['recovery_rate_0_1'] = np.where(loan_data_defaults['recovery_rate'] == 0, 0, 1)"
   ]
  },
  {
   "cell_type": "code",
   "execution_count": 167,
   "id": "824b4424-c9a1-41fd-a4dc-e76e85603c33",
   "metadata": {},
   "outputs": [],
   "source": [
    "#To model ccf - We wil use MLRM"
   ]
  },
  {
   "cell_type": "markdown",
   "id": "88f1d88f-4fe5-4d58-b568-1d4a43ea7d2c",
   "metadata": {},
   "source": [
    "## LGD Model"
   ]
  },
  {
   "cell_type": "code",
   "execution_count": 168,
   "id": "18852015-1477-472a-873a-798d759a655c",
   "metadata": {},
   "outputs": [],
   "source": [
    "##Splitting Data\n",
    "from sklearn.model_selection import train_test_split"
   ]
  },
  {
   "cell_type": "code",
   "execution_count": 169,
   "id": "1880ee21-6f2b-4bc5-88ec-9ae5f5272a14",
   "metadata": {},
   "outputs": [],
   "source": [
    "X_train_s_1, X_test_s_1, y_train_s_1, y_test_s_1 = train_test_split(\n",
    "    loan_data_defaults.drop(['CCF', 'recovery_rate_0_1', 'recovery_rate', 'good_bad'], axis = 1),\n",
    "    loan_data_defaults['recovery_rate_0_1'], random_state = 42, test_size = 0.2)"
   ]
  },
  {
   "cell_type": "code",
   "execution_count": 170,
   "id": "07c5ddf2-1b8a-4bec-860b-b5e10b3ccfa4",
   "metadata": {},
   "outputs": [],
   "source": [
    "#Preparing inputs\n",
    "features_all = [\n",
    "'grade:A',\n",
    "'grade:B',\n",
    "'grade:C',\n",
    "'grade:D',\n",
    "'grade:E',\n",
    "'grade:F',\n",
    "'grade:G',\n",
    "'home_ownership:MORTGAGE',\n",
    "'home_ownership:NONE',\n",
    "'home_ownership:OTHER',\n",
    "'home_ownership:OWN',\n",
    "'home_ownership:RENT',\n",
    "'verification_status:Not Verified',\n",
    "'verification_status:Source Verified',\n",
    "'verification_status:Verified',\n",
    "'purpose:car',\n",
    "'purpose:credit_card',\n",
    "'purpose:debt_consolidation',\n",
    "'purpose:educational',\n",
    "'purpose:home_improvement',\n",
    "'purpose:house',\n",
    "'purpose:major_purchase',\n",
    "'purpose:medical',\n",
    "'purpose:moving',\n",
    "'purpose:other',\n",
    "'purpose:renewable_energy',\n",
    "'purpose:small_business',\n",
    "'purpose:vacation',\n",
    "'purpose:wedding',\n",
    "'initial_list_status:f',\n",
    "'initial_list_status:w',\n",
    "'term_int',\n",
    "'emp_length_int',\n",
    "'mths_since_issue_d',\n",
    "'mths_since_earliest_cr_line',\n",
    "'funded_amnt',\n",
    "'int_rate',\n",
    "'installment',\n",
    "'annual_inc',\n",
    "'dti',\n",
    "'delinq_2yrs',\n",
    "'inq_last_6mths',\n",
    "'mths_since_last_delinq',\n",
    "'mths_since_last_record',\n",
    "'open_acc',\n",
    "'pub_rec',\n",
    "'total_acc',\n",
    "'acc_now_delinq',\n",
    "'total_rev_hi_lim'\n",
    "]"
   ]
  },
  {
   "cell_type": "code",
   "execution_count": 171,
   "id": "5afccbc2-17e3-44c2-ad39-d4f776c638f4",
   "metadata": {},
   "outputs": [],
   "source": [
    "#Reference categories\n",
    "features_reference_cat = ['grade:G',\n",
    "'home_ownership:RENT',\n",
    "'verification_status:Verified',\n",
    "'purpose:credit_card',\n",
    "'initial_list_status:f']"
   ]
  },
  {
   "cell_type": "code",
   "execution_count": 172,
   "id": "4f407cd3-3b2f-42b5-851b-44111d2919f1",
   "metadata": {},
   "outputs": [],
   "source": [
    "X_train_s_1 = X_train_s_1[features_all]"
   ]
  },
  {
   "cell_type": "code",
   "execution_count": 173,
   "id": "de2eb316-dc32-40a6-b03f-7c899884eeb3",
   "metadata": {},
   "outputs": [],
   "source": [
    "X_train_s_1 = X_train_s_1.drop(features_reference_cat, axis = 1)"
   ]
  },
  {
   "cell_type": "markdown",
   "id": "cb90fcb9-9e7f-4a90-b8fe-d91e7185d663",
   "metadata": {},
   "source": [
    "### Estimating the model"
   ]
  },
  {
   "cell_type": "code",
   "execution_count": 174,
   "id": "b8a2fe9e-4bc6-43fc-888f-32c775fcaa9f",
   "metadata": {},
   "outputs": [],
   "source": [
    "import numpy as np\n",
    "from sklearn import linear_model\n",
    "import scipy.stats as stat\n",
    "\n",
    "class LogisticRegression_with_p_values:\n",
    "    \n",
    "    def __init__(self, *args, **kwargs):\n",
    "        self.model = linear_model.LogisticRegression(*args, **kwargs)\n",
    "    \n",
    "    def fit(self, X, y, batch_size=1000):\n",
    "        # Ensure X is a numpy array with float64 type\n",
    "        X = np.asarray(X, dtype=np.float64)\n",
    "        y = np.asarray(y, dtype=np.float64)\n",
    "        \n",
    "        self.model.fit(X, y)\n",
    "        \n",
    "        p = X.shape[1]  # Number of features\n",
    "        F_ij = np.zeros((p, p), dtype=np.float64)  # Fisher Information Matrix\n",
    "        \n",
    "        num_samples = X.shape[0]\n",
    "        for start in range(0, num_samples, batch_size):\n",
    "            end = min(start + batch_size, num_samples)\n",
    "            X_batch = X[start:end]\n",
    "            \n",
    "            # Ensure batch is also float64\n",
    "            X_batch = np.asarray(X_batch, dtype=np.float64)\n",
    "            \n",
    "            decision_function_batch = self.model.decision_function(X_batch)\n",
    "            \n",
    "            # Compute probabilities for batch\n",
    "            exp_df_batch = np.exp(-decision_function_batch)\n",
    "            prob_batch = exp_df_batch / (1 + exp_df_batch)**2\n",
    "            prob_batch = np.reshape(prob_batch, (X_batch.shape[0], 1))\n",
    "            W_batch = np.diagflat(prob_batch)\n",
    "            \n",
    "            # Compute XtW for the current batch and update Fisher Information Matrix\n",
    "            XtW_batch = np.dot(X_batch.T, W_batch)\n",
    "            F_ij += np.dot(XtW_batch, X_batch)\n",
    "        \n",
    "        # Inverse Fisher Information Matrix\n",
    "        try:\n",
    "            Cramer_Rao = np.linalg.inv(F_ij)\n",
    "        except np.linalg.LinAlgError:\n",
    "            # Use pseudoinverse if the matrix is singular\n",
    "            Cramer_Rao = np.linalg.pinv(F_ij)\n",
    "        \n",
    "        # Standard errors of the coefficients\n",
    "        sigma_estimates = np.sqrt(np.diagonal(Cramer_Rao))\n",
    "        \n",
    "        # Z-scores\n",
    "        z_scores = self.model.coef_[0] / sigma_estimates\n",
    "        \n",
    "        # Two-tailed p-values\n",
    "        p_values = [stat.norm.sf(abs(z)) * 2 for z in z_scores]\n",
    "        \n",
    "        # Store results\n",
    "        self.coef_ = self.model.coef_\n",
    "        self.intercept_ = self.model.intercept_\n",
    "        self.p_values = p_values"
   ]
  },
  {
   "cell_type": "code",
   "execution_count": 175,
   "id": "544d2465-7143-4100-898f-e6a9a74ca8b8",
   "metadata": {},
   "outputs": [],
   "source": [
    "reg_lgd_s_1 = LogisticRegression_with_p_values()\n",
    "reg_lgd_s_1.fit(X_train_s_1, y_train_s_1)"
   ]
  },
  {
   "cell_type": "code",
   "execution_count": 176,
   "id": "ae375a6c-74da-444a-9e62-529df43d9be2",
   "metadata": {},
   "outputs": [],
   "source": [
    "feature_name = X_train_s_1.columns.values"
   ]
  },
  {
   "cell_type": "code",
   "execution_count": 177,
   "id": "eddd8e04-9b3e-4bf1-8e5e-0ae4f3eff294",
   "metadata": {
    "scrolled": true
   },
   "outputs": [
    {
     "data": {
      "text/html": [
       "<div>\n",
       "<style scoped>\n",
       "    .dataframe tbody tr th:only-of-type {\n",
       "        vertical-align: middle;\n",
       "    }\n",
       "\n",
       "    .dataframe tbody tr th {\n",
       "        vertical-align: top;\n",
       "    }\n",
       "\n",
       "    .dataframe thead th {\n",
       "        text-align: right;\n",
       "    }\n",
       "</style>\n",
       "<table border=\"1\" class=\"dataframe\">\n",
       "  <thead>\n",
       "    <tr style=\"text-align: right;\">\n",
       "      <th></th>\n",
       "      <th>Feature name</th>\n",
       "      <th>Coefficients</th>\n",
       "      <th>p_values</th>\n",
       "    </tr>\n",
       "  </thead>\n",
       "  <tbody>\n",
       "    <tr>\n",
       "      <th>0</th>\n",
       "      <td>Intercept</td>\n",
       "      <td>-1.061294e-04</td>\n",
       "      <td>NaN</td>\n",
       "    </tr>\n",
       "    <tr>\n",
       "      <th>1</th>\n",
       "      <td>grade:A</td>\n",
       "      <td>-1.294570e-05</td>\n",
       "      <td>9.998775e-01</td>\n",
       "    </tr>\n",
       "    <tr>\n",
       "      <th>2</th>\n",
       "      <td>grade:B</td>\n",
       "      <td>-7.870613e-05</td>\n",
       "      <td>9.990796e-01</td>\n",
       "    </tr>\n",
       "    <tr>\n",
       "      <th>3</th>\n",
       "      <td>grade:C</td>\n",
       "      <td>-1.524204e-04</td>\n",
       "      <td>9.981549e-01</td>\n",
       "    </tr>\n",
       "    <tr>\n",
       "      <th>4</th>\n",
       "      <td>grade:D</td>\n",
       "      <td>2.231187e-05</td>\n",
       "      <td>9.997407e-01</td>\n",
       "    </tr>\n",
       "    <tr>\n",
       "      <th>5</th>\n",
       "      <td>grade:E</td>\n",
       "      <td>1.680726e-05</td>\n",
       "      <td>9.998229e-01</td>\n",
       "    </tr>\n",
       "    <tr>\n",
       "      <th>6</th>\n",
       "      <td>grade:F</td>\n",
       "      <td>8.500352e-05</td>\n",
       "      <td>9.992205e-01</td>\n",
       "    </tr>\n",
       "    <tr>\n",
       "      <th>7</th>\n",
       "      <td>home_ownership:MORTGAGE</td>\n",
       "      <td>-4.046043e-05</td>\n",
       "      <td>9.987271e-01</td>\n",
       "    </tr>\n",
       "    <tr>\n",
       "      <th>8</th>\n",
       "      <td>home_ownership:NONE</td>\n",
       "      <td>1.033086e-06</td>\n",
       "      <td>9.999990e-01</td>\n",
       "    </tr>\n",
       "    <tr>\n",
       "      <th>9</th>\n",
       "      <td>home_ownership:OTHER</td>\n",
       "      <td>6.275662e-07</td>\n",
       "      <td>9.999987e-01</td>\n",
       "    </tr>\n",
       "    <tr>\n",
       "      <th>10</th>\n",
       "      <td>home_ownership:OWN</td>\n",
       "      <td>-4.700055e-06</td>\n",
       "      <td>9.999091e-01</td>\n",
       "    </tr>\n",
       "    <tr>\n",
       "      <th>11</th>\n",
       "      <td>verification_status:Not Verified</td>\n",
       "      <td>-7.682937e-05</td>\n",
       "      <td>9.979562e-01</td>\n",
       "    </tr>\n",
       "    <tr>\n",
       "      <th>12</th>\n",
       "      <td>verification_status:Source Verified</td>\n",
       "      <td>-2.000412e-04</td>\n",
       "      <td>9.941360e-01</td>\n",
       "    </tr>\n",
       "    <tr>\n",
       "      <th>13</th>\n",
       "      <td>purpose:car</td>\n",
       "      <td>1.430060e-05</td>\n",
       "      <td>9.999018e-01</td>\n",
       "    </tr>\n",
       "    <tr>\n",
       "      <th>14</th>\n",
       "      <td>purpose:debt_consolidation</td>\n",
       "      <td>-1.771506e-04</td>\n",
       "      <td>9.953360e-01</td>\n",
       "    </tr>\n",
       "    <tr>\n",
       "      <th>15</th>\n",
       "      <td>purpose:educational</td>\n",
       "      <td>1.269758e-06</td>\n",
       "      <td>9.999965e-01</td>\n",
       "    </tr>\n",
       "    <tr>\n",
       "      <th>16</th>\n",
       "      <td>purpose:home_improvement</td>\n",
       "      <td>1.222989e-05</td>\n",
       "      <td>9.998290e-01</td>\n",
       "    </tr>\n",
       "    <tr>\n",
       "      <th>17</th>\n",
       "      <td>purpose:house</td>\n",
       "      <td>1.309911e-05</td>\n",
       "      <td>9.999266e-01</td>\n",
       "    </tr>\n",
       "    <tr>\n",
       "      <th>18</th>\n",
       "      <td>purpose:major_purchase</td>\n",
       "      <td>2.136321e-05</td>\n",
       "      <td>9.998024e-01</td>\n",
       "    </tr>\n",
       "    <tr>\n",
       "      <th>19</th>\n",
       "      <td>purpose:medical</td>\n",
       "      <td>2.032885e-06</td>\n",
       "      <td>9.999846e-01</td>\n",
       "    </tr>\n",
       "    <tr>\n",
       "      <th>20</th>\n",
       "      <td>purpose:moving</td>\n",
       "      <td>3.930309e-06</td>\n",
       "      <td>9.999738e-01</td>\n",
       "    </tr>\n",
       "    <tr>\n",
       "      <th>21</th>\n",
       "      <td>purpose:other</td>\n",
       "      <td>4.599123e-05</td>\n",
       "      <td>9.993034e-01</td>\n",
       "    </tr>\n",
       "    <tr>\n",
       "      <th>22</th>\n",
       "      <td>purpose:renewable_energy</td>\n",
       "      <td>3.688891e-06</td>\n",
       "      <td>9.999913e-01</td>\n",
       "    </tr>\n",
       "    <tr>\n",
       "      <th>23</th>\n",
       "      <td>purpose:small_business</td>\n",
       "      <td>5.785073e-05</td>\n",
       "      <td>9.993530e-01</td>\n",
       "    </tr>\n",
       "    <tr>\n",
       "      <th>24</th>\n",
       "      <td>purpose:vacation</td>\n",
       "      <td>4.923427e-06</td>\n",
       "      <td>9.999728e-01</td>\n",
       "    </tr>\n",
       "    <tr>\n",
       "      <th>25</th>\n",
       "      <td>purpose:wedding</td>\n",
       "      <td>1.259847e-05</td>\n",
       "      <td>9.999314e-01</td>\n",
       "    </tr>\n",
       "    <tr>\n",
       "      <th>26</th>\n",
       "      <td>initial_list_status:w</td>\n",
       "      <td>-8.886932e-04</td>\n",
       "      <td>9.736644e-01</td>\n",
       "    </tr>\n",
       "    <tr>\n",
       "      <th>27</th>\n",
       "      <td>term_int</td>\n",
       "      <td>-2.206936e-03</td>\n",
       "      <td>3.772176e-01</td>\n",
       "    </tr>\n",
       "    <tr>\n",
       "      <th>28</th>\n",
       "      <td>emp_length_int</td>\n",
       "      <td>-4.003455e-04</td>\n",
       "      <td>8.960434e-01</td>\n",
       "    </tr>\n",
       "    <tr>\n",
       "      <th>29</th>\n",
       "      <td>mths_since_issue_d</td>\n",
       "      <td>1.810032e-02</td>\n",
       "      <td>4.787413e-95</td>\n",
       "    </tr>\n",
       "    <tr>\n",
       "      <th>30</th>\n",
       "      <td>mths_since_earliest_cr_line</td>\n",
       "      <td>-1.311435e-03</td>\n",
       "      <td>1.781964e-19</td>\n",
       "    </tr>\n",
       "    <tr>\n",
       "      <th>31</th>\n",
       "      <td>funded_amnt</td>\n",
       "      <td>1.911510e-05</td>\n",
       "      <td>5.516100e-02</td>\n",
       "    </tr>\n",
       "    <tr>\n",
       "      <th>32</th>\n",
       "      <td>int_rate</td>\n",
       "      <td>3.631508e-04</td>\n",
       "      <td>9.501217e-01</td>\n",
       "    </tr>\n",
       "    <tr>\n",
       "      <th>33</th>\n",
       "      <td>installment</td>\n",
       "      <td>-1.441142e-04</td>\n",
       "      <td>6.420295e-01</td>\n",
       "    </tr>\n",
       "    <tr>\n",
       "      <th>34</th>\n",
       "      <td>annual_inc</td>\n",
       "      <td>-2.665082e-07</td>\n",
       "      <td>4.335236e-01</td>\n",
       "    </tr>\n",
       "    <tr>\n",
       "      <th>35</th>\n",
       "      <td>dti</td>\n",
       "      <td>-6.122803e-03</td>\n",
       "      <td>1.694046e-04</td>\n",
       "    </tr>\n",
       "    <tr>\n",
       "      <th>36</th>\n",
       "      <td>delinq_2yrs</td>\n",
       "      <td>-6.579968e-05</td>\n",
       "      <td>9.964174e-01</td>\n",
       "    </tr>\n",
       "    <tr>\n",
       "      <th>37</th>\n",
       "      <td>inq_last_6mths</td>\n",
       "      <td>2.171204e-04</td>\n",
       "      <td>9.815961e-01</td>\n",
       "    </tr>\n",
       "    <tr>\n",
       "      <th>38</th>\n",
       "      <td>mths_since_last_delinq</td>\n",
       "      <td>-9.185396e-04</td>\n",
       "      <td>6.997838e-02</td>\n",
       "    </tr>\n",
       "    <tr>\n",
       "      <th>39</th>\n",
       "      <td>mths_since_last_record</td>\n",
       "      <td>-3.130658e-03</td>\n",
       "      <td>3.804783e-07</td>\n",
       "    </tr>\n",
       "    <tr>\n",
       "      <th>40</th>\n",
       "      <td>open_acc</td>\n",
       "      <td>-2.405675e-03</td>\n",
       "      <td>4.633806e-01</td>\n",
       "    </tr>\n",
       "    <tr>\n",
       "      <th>41</th>\n",
       "      <td>pub_rec</td>\n",
       "      <td>-6.823254e-05</td>\n",
       "      <td>9.986203e-01</td>\n",
       "    </tr>\n",
       "    <tr>\n",
       "      <th>42</th>\n",
       "      <td>total_acc</td>\n",
       "      <td>-5.964201e-03</td>\n",
       "      <td>3.894396e-05</td>\n",
       "    </tr>\n",
       "    <tr>\n",
       "      <th>43</th>\n",
       "      <td>acc_now_delinq</td>\n",
       "      <td>3.751194e-06</td>\n",
       "      <td>9.999829e-01</td>\n",
       "    </tr>\n",
       "    <tr>\n",
       "      <th>44</th>\n",
       "      <td>total_rev_hi_lim</td>\n",
       "      <td>-6.986017e-06</td>\n",
       "      <td>8.591505e-23</td>\n",
       "    </tr>\n",
       "  </tbody>\n",
       "</table>\n",
       "</div>"
      ],
      "text/plain": [
       "                           Feature name  Coefficients      p_values\n",
       "0                             Intercept -1.061294e-04           NaN\n",
       "1                               grade:A -1.294570e-05  9.998775e-01\n",
       "2                               grade:B -7.870613e-05  9.990796e-01\n",
       "3                               grade:C -1.524204e-04  9.981549e-01\n",
       "4                               grade:D  2.231187e-05  9.997407e-01\n",
       "5                               grade:E  1.680726e-05  9.998229e-01\n",
       "6                               grade:F  8.500352e-05  9.992205e-01\n",
       "7               home_ownership:MORTGAGE -4.046043e-05  9.987271e-01\n",
       "8                   home_ownership:NONE  1.033086e-06  9.999990e-01\n",
       "9                  home_ownership:OTHER  6.275662e-07  9.999987e-01\n",
       "10                   home_ownership:OWN -4.700055e-06  9.999091e-01\n",
       "11     verification_status:Not Verified -7.682937e-05  9.979562e-01\n",
       "12  verification_status:Source Verified -2.000412e-04  9.941360e-01\n",
       "13                          purpose:car  1.430060e-05  9.999018e-01\n",
       "14           purpose:debt_consolidation -1.771506e-04  9.953360e-01\n",
       "15                  purpose:educational  1.269758e-06  9.999965e-01\n",
       "16             purpose:home_improvement  1.222989e-05  9.998290e-01\n",
       "17                        purpose:house  1.309911e-05  9.999266e-01\n",
       "18               purpose:major_purchase  2.136321e-05  9.998024e-01\n",
       "19                      purpose:medical  2.032885e-06  9.999846e-01\n",
       "20                       purpose:moving  3.930309e-06  9.999738e-01\n",
       "21                        purpose:other  4.599123e-05  9.993034e-01\n",
       "22             purpose:renewable_energy  3.688891e-06  9.999913e-01\n",
       "23               purpose:small_business  5.785073e-05  9.993530e-01\n",
       "24                     purpose:vacation  4.923427e-06  9.999728e-01\n",
       "25                      purpose:wedding  1.259847e-05  9.999314e-01\n",
       "26                initial_list_status:w -8.886932e-04  9.736644e-01\n",
       "27                             term_int -2.206936e-03  3.772176e-01\n",
       "28                       emp_length_int -4.003455e-04  8.960434e-01\n",
       "29                   mths_since_issue_d  1.810032e-02  4.787413e-95\n",
       "30          mths_since_earliest_cr_line -1.311435e-03  1.781964e-19\n",
       "31                          funded_amnt  1.911510e-05  5.516100e-02\n",
       "32                             int_rate  3.631508e-04  9.501217e-01\n",
       "33                          installment -1.441142e-04  6.420295e-01\n",
       "34                           annual_inc -2.665082e-07  4.335236e-01\n",
       "35                                  dti -6.122803e-03  1.694046e-04\n",
       "36                          delinq_2yrs -6.579968e-05  9.964174e-01\n",
       "37                       inq_last_6mths  2.171204e-04  9.815961e-01\n",
       "38               mths_since_last_delinq -9.185396e-04  6.997838e-02\n",
       "39               mths_since_last_record -3.130658e-03  3.804783e-07\n",
       "40                             open_acc -2.405675e-03  4.633806e-01\n",
       "41                              pub_rec -6.823254e-05  9.986203e-01\n",
       "42                            total_acc -5.964201e-03  3.894396e-05\n",
       "43                       acc_now_delinq  3.751194e-06  9.999829e-01\n",
       "44                     total_rev_hi_lim -6.986017e-06  8.591505e-23"
      ]
     },
     "execution_count": 177,
     "metadata": {},
     "output_type": "execute_result"
    }
   ],
   "source": [
    "summary_table = pd.DataFrame(columns = ['Feature name'], data = feature_name)\n",
    "# Creates a dataframe with a column titled 'Feature name' and row values contained in the 'feature_name' variable.\n",
    "summary_table['Coefficients'] = np.transpose(reg_lgd_s_1.coef_)\n",
    "# Creates a new column in the dataframe, called 'Coefficients',\n",
    "# with row values the transposed coefficients from the 'LogisticRegression' object.\n",
    "summary_table.index = summary_table.index + 1\n",
    "# Increases the index of every row of the dataframe with 1.\n",
    "summary_table.loc[0] = ['Intercept', reg_lgd_s_1.intercept_[0]]\n",
    "# Assigns values of the row with index 0 of the dataframe.\n",
    "summary_table = summary_table.sort_index()\n",
    "# Sorts the dataframe by index.\n",
    "p_values = reg_lgd_s_1.p_values\n",
    "# We take the result of the newly added method 'p_values' and store it in a variable 'p_values'.\n",
    "p_values = np.append(np.nan,np.array(p_values))\n",
    "# We add the value 'NaN' in the beginning of the variable with p-values.\n",
    "summary_table['p_values'] = p_values\n",
    "# In the 'summary_table' dataframe, we add a new column, called 'p_values', containing the values from the 'p_values' variable.\n",
    "summary_table"
   ]
  },
  {
   "cell_type": "markdown",
   "id": "52a877b2-4e20-4edd-9e28-5b9ac5a4b775",
   "metadata": {},
   "source": [
    "### Testing the Model"
   ]
  },
  {
   "cell_type": "code",
   "execution_count": 178,
   "id": "7d3826b8-5e82-473d-96ef-be9cb584fe56",
   "metadata": {},
   "outputs": [],
   "source": [
    "X_test_s_1 = X_test_s_1[features_all]"
   ]
  },
  {
   "cell_type": "code",
   "execution_count": 179,
   "id": "eb9b6662-35cc-499f-a182-485feff25702",
   "metadata": {},
   "outputs": [],
   "source": [
    "X_test_s_1 = X_test_s_1.drop(features_reference_cat, axis = 1)"
   ]
  },
  {
   "cell_type": "code",
   "execution_count": 180,
   "id": "be2c47b4-e10c-4431-9e69-fc01eb7ee03a",
   "metadata": {},
   "outputs": [],
   "source": [
    "y_hat_test_lgd_s_1 = reg_lgd_s_1.model.predict(X_test_s_1)"
   ]
  },
  {
   "cell_type": "code",
   "execution_count": 181,
   "id": "aac33f53-7e4b-429f-8586-750b6b76a4a7",
   "metadata": {},
   "outputs": [
    {
     "data": {
      "text/plain": [
       "array([1., 1., 0., ..., 1., 1., 1.])"
      ]
     },
     "execution_count": 181,
     "metadata": {},
     "output_type": "execute_result"
    }
   ],
   "source": [
    "y_hat_test_lgd_s_1"
   ]
  },
  {
   "cell_type": "code",
   "execution_count": 182,
   "id": "36d56174-a78a-4b2e-a31a-7a6dfc49766d",
   "metadata": {},
   "outputs": [],
   "source": [
    "y_hat_test_prob_lgd_s_1 = reg_lgd_s_1.model.predict_proba(X_test_s_1)"
   ]
  },
  {
   "cell_type": "code",
   "execution_count": 183,
   "id": "cdcb2602-acc7-4951-9be7-3218c55de599",
   "metadata": {},
   "outputs": [
    {
     "data": {
      "text/plain": [
       "array([[0.39217854, 0.60782146],\n",
       "       [0.38142617, 0.61857383],\n",
       "       [0.53195363, 0.46804637],\n",
       "       ...,\n",
       "       [0.4807362 , 0.5192638 ],\n",
       "       [0.42077803, 0.57922197],\n",
       "       [0.47175814, 0.52824186]])"
      ]
     },
     "execution_count": 183,
     "metadata": {},
     "output_type": "execute_result"
    }
   ],
   "source": [
    "y_hat_test_prob_lgd_s_1"
   ]
  },
  {
   "cell_type": "code",
   "execution_count": 184,
   "id": "5c0148dd-c9f5-4de3-bd31-cb732f9ca31e",
   "metadata": {},
   "outputs": [],
   "source": [
    "#Probabilities for recovery rate > 0\n",
    "y_hat_test_prob_lgd_s_1 = y_hat_test_prob_lgd_s_1[:][:,1]"
   ]
  },
  {
   "cell_type": "code",
   "execution_count": 185,
   "id": "ef7c0749-925b-49d5-86a2-4ea76c0bb085",
   "metadata": {},
   "outputs": [
    {
     "data": {
      "text/plain": [
       "array([0.60782146, 0.61857383, 0.46804637, ..., 0.5192638 , 0.57922197,\n",
       "       0.52824186])"
      ]
     },
     "execution_count": 185,
     "metadata": {},
     "output_type": "execute_result"
    }
   ],
   "source": [
    "y_hat_test_prob_lgd_s_1"
   ]
  },
  {
   "cell_type": "markdown",
   "id": "ae2ccc79-0132-4e7c-bd66-2cbcc6933041",
   "metadata": {},
   "source": [
    "### Accuracy of Stage 1 model"
   ]
  },
  {
   "cell_type": "code",
   "execution_count": 186,
   "id": "c327f66c-cf5f-4f7f-9798-62b1751ec63c",
   "metadata": {},
   "outputs": [],
   "source": [
    "y_test_s_1_temp = y_test_s_1"
   ]
  },
  {
   "cell_type": "code",
   "execution_count": 187,
   "id": "62158b0a-2fd0-412d-97d5-9515e38bcd87",
   "metadata": {},
   "outputs": [],
   "source": [
    "y_test_s_1_temp.reset_index(drop = True, inplace = True)"
   ]
  },
  {
   "cell_type": "code",
   "execution_count": 188,
   "id": "f1bbff83-0f6a-4c66-ad07-d9a97a32c176",
   "metadata": {},
   "outputs": [],
   "source": [
    "df_actual_predicted_prob = pd.concat([y_test_s_1_temp, pd.DataFrame(y_hat_test_prob_lgd_s_1)], axis = 1)"
   ]
  },
  {
   "cell_type": "code",
   "execution_count": 189,
   "id": "eafc456d-4a23-49c8-b9f4-a166780206a6",
   "metadata": {},
   "outputs": [],
   "source": [
    "df_actual_predicted_prob.columns = ['y_test_lgd_s1','y_hat_test_prob_lgd_s1']"
   ]
  },
  {
   "cell_type": "code",
   "execution_count": 190,
   "id": "c1cf2b3e-0194-4c45-8102-f7fe59576f21",
   "metadata": {},
   "outputs": [],
   "source": [
    "df_actual_predicted_prob.index = X_test_s_1.index"
   ]
  },
  {
   "cell_type": "code",
   "execution_count": 191,
   "id": "c862d271-d1af-4800-a5f5-2b50b728594f",
   "metadata": {},
   "outputs": [
    {
     "data": {
      "text/html": [
       "<div>\n",
       "<style scoped>\n",
       "    .dataframe tbody tr th:only-of-type {\n",
       "        vertical-align: middle;\n",
       "    }\n",
       "\n",
       "    .dataframe tbody tr th {\n",
       "        vertical-align: top;\n",
       "    }\n",
       "\n",
       "    .dataframe thead th {\n",
       "        text-align: right;\n",
       "    }\n",
       "</style>\n",
       "<table border=\"1\" class=\"dataframe\">\n",
       "  <thead>\n",
       "    <tr style=\"text-align: right;\">\n",
       "      <th></th>\n",
       "      <th>y_test_lgd_s1</th>\n",
       "      <th>y_hat_test_prob_lgd_s1</th>\n",
       "    </tr>\n",
       "  </thead>\n",
       "  <tbody>\n",
       "    <tr>\n",
       "      <th>178928</th>\n",
       "      <td>1</td>\n",
       "      <td>0.607821</td>\n",
       "    </tr>\n",
       "    <tr>\n",
       "      <th>69814</th>\n",
       "      <td>1</td>\n",
       "      <td>0.618574</td>\n",
       "    </tr>\n",
       "    <tr>\n",
       "      <th>101396</th>\n",
       "      <td>0</td>\n",
       "      <td>0.468046</td>\n",
       "    </tr>\n",
       "    <tr>\n",
       "      <th>463268</th>\n",
       "      <td>1</td>\n",
       "      <td>0.557697</td>\n",
       "    </tr>\n",
       "    <tr>\n",
       "      <th>253729</th>\n",
       "      <td>0</td>\n",
       "      <td>0.403007</td>\n",
       "    </tr>\n",
       "  </tbody>\n",
       "</table>\n",
       "</div>"
      ],
      "text/plain": [
       "        y_test_lgd_s1  y_hat_test_prob_lgd_s1\n",
       "178928              1                0.607821\n",
       "69814               1                0.618574\n",
       "101396              0                0.468046\n",
       "463268              1                0.557697\n",
       "253729              0                0.403007"
      ]
     },
     "execution_count": 191,
     "metadata": {},
     "output_type": "execute_result"
    }
   ],
   "source": [
    "df_actual_predicted_prob.head()"
   ]
  },
  {
   "cell_type": "markdown",
   "id": "49028d95-1e67-4fb5-9b75-014390b1fa61",
   "metadata": {},
   "source": [
    "### Accuracy of the model"
   ]
  },
  {
   "cell_type": "code",
   "execution_count": 192,
   "id": "045778a2-78c5-482a-87df-e46867a8e28e",
   "metadata": {},
   "outputs": [],
   "source": [
    "tr = 0.5\n",
    "df_actual_predicted_prob['y_hat_test_lgd_s1'] = np.where(df_actual_predicted_prob['y_hat_test_prob_lgd_s1'] > tr, 1, 0)"
   ]
  },
  {
   "cell_type": "code",
   "execution_count": 193,
   "id": "af9aa7ef-6115-4dd3-9b4b-ba60b25ce179",
   "metadata": {},
   "outputs": [
    {
     "data": {
      "text/html": [
       "<div>\n",
       "<style scoped>\n",
       "    .dataframe tbody tr th:only-of-type {\n",
       "        vertical-align: middle;\n",
       "    }\n",
       "\n",
       "    .dataframe tbody tr th {\n",
       "        vertical-align: top;\n",
       "    }\n",
       "\n",
       "    .dataframe thead th {\n",
       "        text-align: right;\n",
       "    }\n",
       "</style>\n",
       "<table border=\"1\" class=\"dataframe\">\n",
       "  <thead>\n",
       "    <tr style=\"text-align: right;\">\n",
       "      <th></th>\n",
       "      <th>y_test_lgd_s1</th>\n",
       "      <th>y_hat_test_prob_lgd_s1</th>\n",
       "      <th>y_hat_test_lgd_s1</th>\n",
       "    </tr>\n",
       "  </thead>\n",
       "  <tbody>\n",
       "    <tr>\n",
       "      <th>178928</th>\n",
       "      <td>1</td>\n",
       "      <td>0.607821</td>\n",
       "      <td>1</td>\n",
       "    </tr>\n",
       "    <tr>\n",
       "      <th>69814</th>\n",
       "      <td>1</td>\n",
       "      <td>0.618574</td>\n",
       "      <td>1</td>\n",
       "    </tr>\n",
       "    <tr>\n",
       "      <th>101396</th>\n",
       "      <td>0</td>\n",
       "      <td>0.468046</td>\n",
       "      <td>0</td>\n",
       "    </tr>\n",
       "    <tr>\n",
       "      <th>463268</th>\n",
       "      <td>1</td>\n",
       "      <td>0.557697</td>\n",
       "      <td>1</td>\n",
       "    </tr>\n",
       "    <tr>\n",
       "      <th>253729</th>\n",
       "      <td>0</td>\n",
       "      <td>0.403007</td>\n",
       "      <td>0</td>\n",
       "    </tr>\n",
       "  </tbody>\n",
       "</table>\n",
       "</div>"
      ],
      "text/plain": [
       "        y_test_lgd_s1  y_hat_test_prob_lgd_s1  y_hat_test_lgd_s1\n",
       "178928              1                0.607821                  1\n",
       "69814               1                0.618574                  1\n",
       "101396              0                0.468046                  0\n",
       "463268              1                0.557697                  1\n",
       "253729              0                0.403007                  0"
      ]
     },
     "execution_count": 193,
     "metadata": {},
     "output_type": "execute_result"
    }
   ],
   "source": [
    "df_actual_predicted_prob.head()"
   ]
  },
  {
   "cell_type": "code",
   "execution_count": 194,
   "id": "021e4abe-393b-43e0-98cf-b0ee90ce46b0",
   "metadata": {},
   "outputs": [
    {
     "data": {
      "text/html": [
       "<div>\n",
       "<style scoped>\n",
       "    .dataframe tbody tr th:only-of-type {\n",
       "        vertical-align: middle;\n",
       "    }\n",
       "\n",
       "    .dataframe tbody tr th {\n",
       "        vertical-align: top;\n",
       "    }\n",
       "\n",
       "    .dataframe thead th {\n",
       "        text-align: right;\n",
       "    }\n",
       "</style>\n",
       "<table border=\"1\" class=\"dataframe\">\n",
       "  <thead>\n",
       "    <tr style=\"text-align: right;\">\n",
       "      <th>Predicted</th>\n",
       "      <th>0</th>\n",
       "      <th>1</th>\n",
       "    </tr>\n",
       "    <tr>\n",
       "      <th>Actual</th>\n",
       "      <th></th>\n",
       "      <th></th>\n",
       "    </tr>\n",
       "  </thead>\n",
       "  <tbody>\n",
       "    <tr>\n",
       "      <th>0</th>\n",
       "      <td>1017</td>\n",
       "      <td>2745</td>\n",
       "    </tr>\n",
       "    <tr>\n",
       "      <th>1</th>\n",
       "      <td>695</td>\n",
       "      <td>4191</td>\n",
       "    </tr>\n",
       "  </tbody>\n",
       "</table>\n",
       "</div>"
      ],
      "text/plain": [
       "Predicted     0     1\n",
       "Actual               \n",
       "0          1017  2745\n",
       "1           695  4191"
      ]
     },
     "execution_count": 194,
     "metadata": {},
     "output_type": "execute_result"
    }
   ],
   "source": [
    "pd.crosstab(df_actual_predicted_prob['y_test_lgd_s1'],df_actual_predicted_prob['y_hat_test_lgd_s1'],\n",
    "           rownames = ['Actual'], colnames = ['Predicted'])"
   ]
  },
  {
   "cell_type": "code",
   "execution_count": 195,
   "id": "e58051f8-a4ee-423f-923f-7a1ae3272764",
   "metadata": {},
   "outputs": [
    {
     "data": {
      "text/html": [
       "<div>\n",
       "<style scoped>\n",
       "    .dataframe tbody tr th:only-of-type {\n",
       "        vertical-align: middle;\n",
       "    }\n",
       "\n",
       "    .dataframe tbody tr th {\n",
       "        vertical-align: top;\n",
       "    }\n",
       "\n",
       "    .dataframe thead th {\n",
       "        text-align: right;\n",
       "    }\n",
       "</style>\n",
       "<table border=\"1\" class=\"dataframe\">\n",
       "  <thead>\n",
       "    <tr style=\"text-align: right;\">\n",
       "      <th>Predicted</th>\n",
       "      <th>0</th>\n",
       "      <th>1</th>\n",
       "    </tr>\n",
       "    <tr>\n",
       "      <th>Actual</th>\n",
       "      <th></th>\n",
       "      <th></th>\n",
       "    </tr>\n",
       "  </thead>\n",
       "  <tbody>\n",
       "    <tr>\n",
       "      <th>0</th>\n",
       "      <td>0.117599</td>\n",
       "      <td>0.317414</td>\n",
       "    </tr>\n",
       "    <tr>\n",
       "      <th>1</th>\n",
       "      <td>0.080365</td>\n",
       "      <td>0.484621</td>\n",
       "    </tr>\n",
       "  </tbody>\n",
       "</table>\n",
       "</div>"
      ],
      "text/plain": [
       "Predicted         0         1\n",
       "Actual                       \n",
       "0          0.117599  0.317414\n",
       "1          0.080365  0.484621"
      ]
     },
     "execution_count": 195,
     "metadata": {},
     "output_type": "execute_result"
    }
   ],
   "source": [
    "confusion_matrix = pd.crosstab(df_actual_predicted_prob['y_test_lgd_s1'],df_actual_predicted_prob['y_hat_test_lgd_s1'],\n",
    "           rownames = ['Actual'], colnames = ['Predicted']) / df_actual_predicted_prob.shape[0]\n",
    "\n",
    "confusion_matrix"
   ]
  },
  {
   "cell_type": "code",
   "execution_count": 196,
   "id": "88a2f6ad-49d3-4fba-9ab2-1a5891d1881e",
   "metadata": {},
   "outputs": [
    {
     "data": {
      "text/plain": [
       "0.6022201665124884"
      ]
     },
     "execution_count": 196,
     "metadata": {},
     "output_type": "execute_result"
    }
   ],
   "source": [
    "accuracy_score = confusion_matrix.iloc[0,0] + confusion_matrix.iloc[1,1]\n",
    "accuracy_score"
   ]
  },
  {
   "cell_type": "code",
   "execution_count": 197,
   "id": "59e6a931-b26c-4b90-b332-2b76454cf7f2",
   "metadata": {},
   "outputs": [],
   "source": [
    "from sklearn.metrics import roc_curve, roc_auc_score"
   ]
  },
  {
   "cell_type": "code",
   "execution_count": 198,
   "id": "3ec203d2-dc0f-4aeb-8591-1650f7e24a83",
   "metadata": {},
   "outputs": [],
   "source": [
    "fpr, tpr, threshold = roc_curve(df_actual_predicted_prob['y_test_lgd_s1'], df_actual_predicted_prob['y_hat_test_prob_lgd_s1'])"
   ]
  },
  {
   "cell_type": "code",
   "execution_count": 199,
   "id": "6e1ddfb2-e383-437b-94a2-297651771abd",
   "metadata": {},
   "outputs": [
    {
     "data": {
      "text/plain": [
       "Text(0.5, 1.0, 'ROC curve')"
      ]
     },
     "execution_count": 199,
     "metadata": {},
     "output_type": "execute_result"
    },
    {
     "data": {
      "image/png": "[encoded data removed]",
      "text/plain": [
       "<Figure size 640x480 with 1 Axes>"
      ]
     },
     "metadata": {},
     "output_type": "display_data"
    }
   ],
   "source": [
    "plt.plot(fpr, tpr)\n",
    "plt.plot(fpr, fpr, linestyle = '--', color = 'k')\n",
    "plt.xlabel('False positive rate')\n",
    "plt.ylabel('True positive rate')\n",
    "plt.title('ROC curve')"
   ]
  },
  {
   "cell_type": "code",
   "execution_count": 200,
   "id": "94473f53-bf97-405c-95ab-a9b299db6b9e",
   "metadata": {},
   "outputs": [],
   "source": [
    "AUCROC = roc_auc_score(df_actual_predicted_prob['y_test_lgd_s1'], df_actual_predicted_prob['y_hat_test_prob_lgd_s1'])"
   ]
  },
  {
   "cell_type": "code",
   "execution_count": 201,
   "id": "ec23b06d-5781-47c4-8d12-fd5fdfa9351d",
   "metadata": {},
   "outputs": [
    {
     "data": {
      "text/plain": [
       "0.6493851412415731"
      ]
     },
     "execution_count": 201,
     "metadata": {},
     "output_type": "execute_result"
    }
   ],
   "source": [
    "AUCROC"
   ]
  },
  {
   "cell_type": "markdown",
   "id": "7d041fc6-48d9-4571-aa98-d88eca4d5729",
   "metadata": {},
   "source": [
    "## Saving the Model"
   ]
  },
  {
   "cell_type": "code",
   "execution_count": 202,
   "id": "6a8c70cf-b98c-45a5-ab9c-7363dc4056ff",
   "metadata": {},
   "outputs": [],
   "source": [
    "import pickle"
   ]
  },
  {
   "cell_type": "code",
   "execution_count": 203,
   "id": "f9c051db-a116-4b64-9c6d-250f02ddc479",
   "metadata": {},
   "outputs": [],
   "source": [
    "pickle.dump(reg_lgd_s_1, open('reg_lgd_s1.sav', 'wb'))"
   ]
  },
  {
   "cell_type": "markdown",
   "id": "44f1bb95-35be-47dc-8f64-33591128de31",
   "metadata": {},
   "source": [
    "# Stage 2 - LGD Model - MLRM"
   ]
  },
  {
   "cell_type": "code",
   "execution_count": 204,
   "id": "042d3004-43ee-4d9e-b282-668e5edfcc8c",
   "metadata": {},
   "outputs": [],
   "source": [
    "lgd_stage_2_data = loan_data_defaults[loan_data_defaults['recovery_rate_0_1'] == 1]"
   ]
  },
  {
   "cell_type": "code",
   "execution_count": 205,
   "id": "9dfad35f-365f-46e3-a935-f6cb65969af3",
   "metadata": {},
   "outputs": [],
   "source": [
    "X_train_s_2, X_test_s_2, y_train_s_2, y_test_s_2 = train_test_split(\n",
    "    lgd_stage_2_data.drop(['CCF', 'recovery_rate_0_1', 'recovery_rate', 'good_bad'], axis = 1),\n",
    "    lgd_stage_2_data['recovery_rate'], random_state = 42, test_size = 0.2)"
   ]
  },
  {
   "cell_type": "code",
   "execution_count": 206,
   "id": "88e96393-057b-4c95-b697-e6c98c62ea1c",
   "metadata": {},
   "outputs": [],
   "source": [
    "from sklearn.linear_model import LinearRegression\n",
    "from sklearn.metrics import mean_squared_error, r2_score"
   ]
  },
  {
   "cell_type": "code",
   "execution_count": 207,
   "id": "d9aaaedd-ec8d-485e-9a1b-b9c9469c594c",
   "metadata": {},
   "outputs": [],
   "source": [
    "from sklearn.linear_model import LinearRegression as SklearnLinearRegression\n",
    "import numpy as np\n",
    "from scipy import stats\n",
    "\n",
    "class LinearRegression(SklearnLinearRegression):\n",
    "    def __init__(self, fit_intercept=True, copy_X=True, n_jobs=None, positive=False):\n",
    "        # Initialize the parent class with all required parameters.\n",
    "        super().__init__(fit_intercept=fit_intercept, copy_X=copy_X, n_jobs=n_jobs, positive=positive)\n",
    "\n",
    "    def fit(self, X, y):\n",
    "        # Call the fit method of the parent class\n",
    "        super().fit(X, y)\n",
    "        \n",
    "        # Number of observations and predictors\n",
    "        n, p = X.shape\n",
    "\n",
    "        # Compute sum of squared errors\n",
    "        sse = np.sum((self.predict(X) - y) ** 2, axis=0) / (n - p)\n",
    "        \n",
    "        # Compute standard errors of the coefficients\n",
    "        try:\n",
    "            se = np.sqrt(np.diagonal(sse * np.linalg.inv(np.dot(X.T, X))))\n",
    "        except np.linalg.LinAlgError:\n",
    "            raise ValueError(\"Matrix inversion error: X.T @ X is likely singular\")\n",
    "\n",
    "        # Compute t-statistics for the coefficients\n",
    "        self.t = self.coef_ / se\n",
    "        \n",
    "        # Compute p-values for the t-statistics\n",
    "        self.p = 2 * (1 - stats.t.cdf(np.abs(self.t), df=n - p))\n",
    "        \n",
    "        return self\n",
    "\n",
    "    @staticmethod\n",
    "    def normalize_features(X):\n",
    "        from sklearn.preprocessing import StandardScaler\n",
    "        scaler = StandardScaler()\n",
    "        X_normalized = scaler.fit_transform(X)\n",
    "        return X_normalized\n"
   ]
  },
  {
   "cell_type": "code",
   "execution_count": 208,
   "id": "bee002fa-1212-461d-9214-84b75d03f6c6",
   "metadata": {},
   "outputs": [],
   "source": [
    "X_train_s_2 = X_train_s_2[features_all]"
   ]
  },
  {
   "cell_type": "code",
   "execution_count": 209,
   "id": "6b181783-38e0-4352-b5c0-2e0d66b511c5",
   "metadata": {},
   "outputs": [],
   "source": [
    "X_train_s_2 = X_train_s_2.drop(features_reference_cat, axis = 1)"
   ]
  },
  {
   "cell_type": "code",
   "execution_count": 210,
   "id": "bec2670b-0df2-44d3-be59-c69044cd5caa",
   "metadata": {},
   "outputs": [
    {
     "data": {
      "text/html": [
       "<style>#sk-container-id-6 {color: black;background-color: white;}#sk-container-id-6 pre{padding: 0;}#sk-container-id-6 div.sk-toggleable {background-color: white;}#sk-container-id-6 label.sk-toggleable__label {cursor: pointer;display: block;width: 100%;margin-bottom: 0;padding: 0.3em;box-sizing: border-box;text-align: center;}#sk-container-id-6 label.sk-toggleable__label-arrow:before {content: \"▸\";float: left;margin-right: 0.25em;color: #696969;}#sk-container-id-6 label.sk-toggleable__label-arrow:hover:before {color: black;}#sk-container-id-6 div.sk-estimator:hover label.sk-toggleable__label-arrow:before {color: black;}#sk-container-id-6 div.sk-toggleable__content {max-height: 0;max-width: 0;overflow: hidden;text-align: left;background-color: #f0f8ff;}#sk-container-id-6 div.sk-toggleable__content pre {margin: 0.2em;color: black;border-radius: 0.25em;background-color: #f0f8ff;}#sk-container-id-6 input.sk-toggleable__control:checked~div.sk-toggleable__content {max-height: 200px;max-width: 100%;overflow: auto;}#sk-container-id-6 input.sk-toggleable__control:checked~label.sk-toggleable__label-arrow:before {content: \"▾\";}#sk-container-id-6 div.sk-estimator input.sk-toggleable__control:checked~label.sk-toggleable__label {background-color: #d4ebff;}#sk-container-id-6 div.sk-label input.sk-toggleable__control:checked~label.sk-toggleable__label {background-color: #d4ebff;}#sk-container-id-6 input.sk-hidden--visually {border: 0;clip: rect(1px 1px 1px 1px);clip: rect(1px, 1px, 1px, 1px);height: 1px;margin: -1px;overflow: hidden;padding: 0;position: absolute;width: 1px;}#sk-container-id-6 div.sk-estimator {font-family: monospace;background-color: #f0f8ff;border: 1px dotted black;border-radius: 0.25em;box-sizing: border-box;margin-bottom: 0.5em;}#sk-container-id-6 div.sk-estimator:hover {background-color: #d4ebff;}#sk-container-id-6 div.sk-parallel-item::after {content: \"\";width: 100%;border-bottom: 1px solid gray;flex-grow: 1;}#sk-container-id-6 div.sk-label:hover label.sk-toggleable__label {background-color: #d4ebff;}#sk-container-id-6 div.sk-serial::before {content: \"\";position: absolute;border-left: 1px solid gray;box-sizing: border-box;top: 0;bottom: 0;left: 50%;z-index: 0;}#sk-container-id-6 div.sk-serial {display: flex;flex-direction: column;align-items: center;background-color: white;padding-right: 0.2em;padding-left: 0.2em;position: relative;}#sk-container-id-6 div.sk-item {position: relative;z-index: 1;}#sk-container-id-6 div.sk-parallel {display: flex;align-items: stretch;justify-content: center;background-color: white;position: relative;}#sk-container-id-6 div.sk-item::before, #sk-container-id-6 div.sk-parallel-item::before {content: \"\";position: absolute;border-left: 1px solid gray;box-sizing: border-box;top: 0;bottom: 0;left: 50%;z-index: -1;}#sk-container-id-6 div.sk-parallel-item {display: flex;flex-direction: column;z-index: 1;position: relative;background-color: white;}#sk-container-id-6 div.sk-parallel-item:first-child::after {align-self: flex-end;width: 50%;}#sk-container-id-6 div.sk-parallel-item:last-child::after {align-self: flex-start;width: 50%;}#sk-container-id-6 div.sk-parallel-item:only-child::after {width: 0;}#sk-container-id-6 div.sk-dashed-wrapped {border: 1px dashed gray;margin: 0 0.4em 0.5em 0.4em;box-sizing: border-box;padding-bottom: 0.4em;background-color: white;}#sk-container-id-6 div.sk-label label {font-family: monospace;font-weight: bold;display: inline-block;line-height: 1.2em;}#sk-container-id-6 div.sk-label-container {text-align: center;}#sk-container-id-6 div.sk-container {/* jupyter's `normalize.less` sets `[hidden] { display: none; }` but bootstrap.min.css set `[hidden] { display: none !important; }` so we also need the `!important` here to be able to override the default hidden behavior on the sphinx rendered scikit-learn.org. See: https://github.com/scikit-learn/scikit-learn/issues/21755 */display: inline-block !important;position: relative;}#sk-container-id-6 div.sk-text-repr-fallback {display: none;}</style><div id=\"sk-container-id-6\" class=\"sk-top-container\"><div class=\"sk-text-repr-fallback\"><pre>LinearRegression()</pre><b>In a Jupyter environment, please rerun this cell to show the HTML representation or trust the notebook. <br />On GitHub, the HTML representation is unable to render, please try loading this page with nbviewer.org.</b></div><div class=\"sk-container\" hidden><div class=\"sk-item\"><div class=\"sk-estimator sk-toggleable\"><input class=\"sk-toggleable__control sk-hidden--visually\" id=\"sk-estimator-id-6\" type=\"checkbox\" checked><label for=\"sk-estimator-id-6\" class=\"sk-toggleable__label sk-toggleable__label-arrow\">LinearRegression</label><div class=\"sk-toggleable__content\"><pre>LinearRegression()</pre></div></div></div></div></div>"
      ],
      "text/plain": [
       "LinearRegression()"
      ]
     },
     "execution_count": 210,
     "metadata": {},
     "output_type": "execute_result"
    }
   ],
   "source": [
    "reg_lgd_s2 = LinearRegression()\n",
    "reg_lgd_s2.fit(X_train_s_2,y_train_s_2)"
   ]
  },
  {
   "cell_type": "code",
   "execution_count": 211,
   "id": "877d1867-a355-499a-b3c7-a6250e6f337c",
   "metadata": {},
   "outputs": [],
   "source": [
    "feature_name = X_train_s_2.columns.values"
   ]
  },
  {
   "cell_type": "code",
   "execution_count": 212,
   "id": "0af103e4-8640-4c09-8cbc-f93196ba152b",
   "metadata": {},
   "outputs": [
    {
     "data": {
      "text/html": [
       "<div>\n",
       "<style scoped>\n",
       "    .dataframe tbody tr th:only-of-type {\n",
       "        vertical-align: middle;\n",
       "    }\n",
       "\n",
       "    .dataframe tbody tr th {\n",
       "        vertical-align: top;\n",
       "    }\n",
       "\n",
       "    .dataframe thead th {\n",
       "        text-align: right;\n",
       "    }\n",
       "</style>\n",
       "<table border=\"1\" class=\"dataframe\">\n",
       "  <thead>\n",
       "    <tr style=\"text-align: right;\">\n",
       "      <th></th>\n",
       "      <th>Feature name</th>\n",
       "      <th>Coefficients</th>\n",
       "      <th>t_values</th>\n",
       "      <th>p_values</th>\n",
       "    </tr>\n",
       "  </thead>\n",
       "  <tbody>\n",
       "    <tr>\n",
       "      <th>0</th>\n",
       "      <td>Intercept</td>\n",
       "      <td>2.406858e-01</td>\n",
       "      <td>NaN</td>\n",
       "      <td>NaN</td>\n",
       "    </tr>\n",
       "    <tr>\n",
       "      <th>1</th>\n",
       "      <td>grade:A</td>\n",
       "      <td>-6.826892e-02</td>\n",
       "      <td>-14.331672</td>\n",
       "      <td>0.000000e+00</td>\n",
       "    </tr>\n",
       "    <tr>\n",
       "      <th>2</th>\n",
       "      <td>grade:B</td>\n",
       "      <td>-5.083556e-02</td>\n",
       "      <td>-13.216179</td>\n",
       "      <td>0.000000e+00</td>\n",
       "    </tr>\n",
       "    <tr>\n",
       "      <th>3</th>\n",
       "      <td>grade:C</td>\n",
       "      <td>-3.748066e-02</td>\n",
       "      <td>-10.113073</td>\n",
       "      <td>0.000000e+00</td>\n",
       "    </tr>\n",
       "    <tr>\n",
       "      <th>4</th>\n",
       "      <td>grade:D</td>\n",
       "      <td>-2.717310e-02</td>\n",
       "      <td>-7.041142</td>\n",
       "      <td>1.970202e-12</td>\n",
       "    </tr>\n",
       "    <tr>\n",
       "      <th>5</th>\n",
       "      <td>grade:E</td>\n",
       "      <td>-1.315941e-02</td>\n",
       "      <td>-3.102979</td>\n",
       "      <td>1.918578e-03</td>\n",
       "    </tr>\n",
       "    <tr>\n",
       "      <th>6</th>\n",
       "      <td>grade:F</td>\n",
       "      <td>-5.260168e-03</td>\n",
       "      <td>-1.091950</td>\n",
       "      <td>2.748685e-01</td>\n",
       "    </tr>\n",
       "    <tr>\n",
       "      <th>7</th>\n",
       "      <td>home_ownership:MORTGAGE</td>\n",
       "      <td>2.832212e-03</td>\n",
       "      <td>1.877221</td>\n",
       "      <td>6.050271e-02</td>\n",
       "    </tr>\n",
       "    <tr>\n",
       "      <th>8</th>\n",
       "      <td>home_ownership:NONE</td>\n",
       "      <td>1.459035e-01</td>\n",
       "      <td>3.914432</td>\n",
       "      <td>9.092582e-05</td>\n",
       "    </tr>\n",
       "    <tr>\n",
       "      <th>9</th>\n",
       "      <td>home_ownership:OTHER</td>\n",
       "      <td>-9.475922e-03</td>\n",
       "      <td>-0.462549</td>\n",
       "      <td>6.436926e-01</td>\n",
       "    </tr>\n",
       "    <tr>\n",
       "      <th>10</th>\n",
       "      <td>home_ownership:OWN</td>\n",
       "      <td>5.000678e-03</td>\n",
       "      <td>2.057714</td>\n",
       "      <td>3.963089e-02</td>\n",
       "    </tr>\n",
       "    <tr>\n",
       "      <th>11</th>\n",
       "      <td>verification_status:Not Verified</td>\n",
       "      <td>1.056585e-03</td>\n",
       "      <td>0.593530</td>\n",
       "      <td>5.528332e-01</td>\n",
       "    </tr>\n",
       "    <tr>\n",
       "      <th>12</th>\n",
       "      <td>verification_status:Source Verified</td>\n",
       "      <td>-1.009915e-03</td>\n",
       "      <td>-0.619701</td>\n",
       "      <td>5.354622e-01</td>\n",
       "    </tr>\n",
       "    <tr>\n",
       "      <th>13</th>\n",
       "      <td>purpose:car</td>\n",
       "      <td>-2.995960e-03</td>\n",
       "      <td>-0.475982</td>\n",
       "      <td>6.340924e-01</td>\n",
       "    </tr>\n",
       "    <tr>\n",
       "      <th>14</th>\n",
       "      <td>purpose:debt_consolidation</td>\n",
       "      <td>8.206319e-05</td>\n",
       "      <td>0.044262</td>\n",
       "      <td>9.646959e-01</td>\n",
       "    </tr>\n",
       "    <tr>\n",
       "      <th>15</th>\n",
       "      <td>purpose:educational</td>\n",
       "      <td>7.625467e-02</td>\n",
       "      <td>5.837945</td>\n",
       "      <td>5.368894e-09</td>\n",
       "    </tr>\n",
       "    <tr>\n",
       "      <th>16</th>\n",
       "      <td>purpose:home_improvement</td>\n",
       "      <td>-3.702374e-03</td>\n",
       "      <td>-1.096376</td>\n",
       "      <td>2.729279e-01</td>\n",
       "    </tr>\n",
       "    <tr>\n",
       "      <th>17</th>\n",
       "      <td>purpose:house</td>\n",
       "      <td>-3.786803e-03</td>\n",
       "      <td>-0.495856</td>\n",
       "      <td>6.200015e-01</td>\n",
       "    </tr>\n",
       "    <tr>\n",
       "      <th>18</th>\n",
       "      <td>purpose:major_purchase</td>\n",
       "      <td>2.914439e-03</td>\n",
       "      <td>0.616324</td>\n",
       "      <td>5.376877e-01</td>\n",
       "    </tr>\n",
       "    <tr>\n",
       "      <th>19</th>\n",
       "      <td>purpose:medical</td>\n",
       "      <td>1.078825e-02</td>\n",
       "      <td>1.787251</td>\n",
       "      <td>7.391253e-02</td>\n",
       "    </tr>\n",
       "    <tr>\n",
       "      <th>20</th>\n",
       "      <td>purpose:moving</td>\n",
       "      <td>1.398692e-02</td>\n",
       "      <td>2.068030</td>\n",
       "      <td>3.865040e-02</td>\n",
       "    </tr>\n",
       "    <tr>\n",
       "      <th>21</th>\n",
       "      <td>purpose:other</td>\n",
       "      <td>4.841345e-03</td>\n",
       "      <td>1.603218</td>\n",
       "      <td>1.089028e-01</td>\n",
       "    </tr>\n",
       "    <tr>\n",
       "      <th>22</th>\n",
       "      <td>purpose:renewable_energy</td>\n",
       "      <td>2.420645e-02</td>\n",
       "      <td>1.467247</td>\n",
       "      <td>1.423251e-01</td>\n",
       "    </tr>\n",
       "    <tr>\n",
       "      <th>23</th>\n",
       "      <td>purpose:small_business</td>\n",
       "      <td>6.212343e-04</td>\n",
       "      <td>0.164659</td>\n",
       "      <td>8.692143e-01</td>\n",
       "    </tr>\n",
       "    <tr>\n",
       "      <th>24</th>\n",
       "      <td>purpose:vacation</td>\n",
       "      <td>-3.002398e-03</td>\n",
       "      <td>-0.343553</td>\n",
       "      <td>7.311861e-01</td>\n",
       "    </tr>\n",
       "    <tr>\n",
       "      <th>25</th>\n",
       "      <td>purpose:wedding</td>\n",
       "      <td>2.034853e-02</td>\n",
       "      <td>2.774151</td>\n",
       "      <td>5.539872e-03</td>\n",
       "    </tr>\n",
       "    <tr>\n",
       "      <th>26</th>\n",
       "      <td>initial_list_status:w</td>\n",
       "      <td>1.464671e-02</td>\n",
       "      <td>7.845721</td>\n",
       "      <td>4.662937e-15</td>\n",
       "    </tr>\n",
       "    <tr>\n",
       "      <th>27</th>\n",
       "      <td>term_int</td>\n",
       "      <td>3.316229e-04</td>\n",
       "      <td>2.318608</td>\n",
       "      <td>2.042660e-02</td>\n",
       "    </tr>\n",
       "    <tr>\n",
       "      <th>28</th>\n",
       "      <td>emp_length_int</td>\n",
       "      <td>8.727462e-05</td>\n",
       "      <td>0.474572</td>\n",
       "      <td>6.350976e-01</td>\n",
       "    </tr>\n",
       "    <tr>\n",
       "      <th>29</th>\n",
       "      <td>mths_since_issue_d</td>\n",
       "      <td>-1.521649e-03</td>\n",
       "      <td>-32.000312</td>\n",
       "      <td>0.000000e+00</td>\n",
       "    </tr>\n",
       "    <tr>\n",
       "      <th>30</th>\n",
       "      <td>mths_since_earliest_cr_line</td>\n",
       "      <td>3.418678e-05</td>\n",
       "      <td>3.870929</td>\n",
       "      <td>1.087757e-04</td>\n",
       "    </tr>\n",
       "    <tr>\n",
       "      <th>31</th>\n",
       "      <td>funded_amnt</td>\n",
       "      <td>-2.186999e-07</td>\n",
       "      <td>-0.386353</td>\n",
       "      <td>6.992397e-01</td>\n",
       "    </tr>\n",
       "    <tr>\n",
       "      <th>32</th>\n",
       "      <td>int_rate</td>\n",
       "      <td>-2.544714e-03</td>\n",
       "      <td>-7.663063</td>\n",
       "      <td>1.887379e-14</td>\n",
       "    </tr>\n",
       "    <tr>\n",
       "      <th>33</th>\n",
       "      <td>installment</td>\n",
       "      <td>-1.037621e-05</td>\n",
       "      <td>-0.587509</td>\n",
       "      <td>5.568684e-01</td>\n",
       "    </tr>\n",
       "    <tr>\n",
       "      <th>34</th>\n",
       "      <td>annual_inc</td>\n",
       "      <td>6.389841e-08</td>\n",
       "      <td>3.214566</td>\n",
       "      <td>1.308549e-03</td>\n",
       "    </tr>\n",
       "    <tr>\n",
       "      <th>35</th>\n",
       "      <td>dti</td>\n",
       "      <td>1.775655e-04</td>\n",
       "      <td>1.818656</td>\n",
       "      <td>6.897933e-02</td>\n",
       "    </tr>\n",
       "    <tr>\n",
       "      <th>36</th>\n",
       "      <td>delinq_2yrs</td>\n",
       "      <td>1.757943e-03</td>\n",
       "      <td>1.956347</td>\n",
       "      <td>5.043858e-02</td>\n",
       "    </tr>\n",
       "    <tr>\n",
       "      <th>37</th>\n",
       "      <td>inq_last_6mths</td>\n",
       "      <td>1.274095e-03</td>\n",
       "      <td>2.361841</td>\n",
       "      <td>1.819423e-02</td>\n",
       "    </tr>\n",
       "    <tr>\n",
       "      <th>38</th>\n",
       "      <td>mths_since_last_delinq</td>\n",
       "      <td>-1.094747e-06</td>\n",
       "      <td>-0.036488</td>\n",
       "      <td>9.708935e-01</td>\n",
       "    </tr>\n",
       "    <tr>\n",
       "      <th>39</th>\n",
       "      <td>mths_since_last_record</td>\n",
       "      <td>-5.558083e-05</td>\n",
       "      <td>-1.337928</td>\n",
       "      <td>1.809354e-01</td>\n",
       "    </tr>\n",
       "    <tr>\n",
       "      <th>40</th>\n",
       "      <td>open_acc</td>\n",
       "      <td>-1.196505e-03</td>\n",
       "      <td>-6.062391</td>\n",
       "      <td>1.365854e-09</td>\n",
       "    </tr>\n",
       "    <tr>\n",
       "      <th>41</th>\n",
       "      <td>pub_rec</td>\n",
       "      <td>3.447322e-03</td>\n",
       "      <td>1.259244</td>\n",
       "      <td>2.079574e-01</td>\n",
       "    </tr>\n",
       "    <tr>\n",
       "      <th>42</th>\n",
       "      <td>total_acc</td>\n",
       "      <td>4.766629e-04</td>\n",
       "      <td>5.448784</td>\n",
       "      <td>5.133116e-08</td>\n",
       "    </tr>\n",
       "    <tr>\n",
       "      <th>43</th>\n",
       "      <td>acc_now_delinq</td>\n",
       "      <td>4.278394e-03</td>\n",
       "      <td>0.442200</td>\n",
       "      <td>6.583494e-01</td>\n",
       "    </tr>\n",
       "    <tr>\n",
       "      <th>44</th>\n",
       "      <td>total_rev_hi_lim</td>\n",
       "      <td>2.263456e-07</td>\n",
       "      <td>5.569222</td>\n",
       "      <td>2.592628e-08</td>\n",
       "    </tr>\n",
       "  </tbody>\n",
       "</table>\n",
       "</div>"
      ],
      "text/plain": [
       "                           Feature name  Coefficients   t_values      p_values\n",
       "0                             Intercept  2.406858e-01        NaN           NaN\n",
       "1                               grade:A -6.826892e-02 -14.331672  0.000000e+00\n",
       "2                               grade:B -5.083556e-02 -13.216179  0.000000e+00\n",
       "3                               grade:C -3.748066e-02 -10.113073  0.000000e+00\n",
       "4                               grade:D -2.717310e-02  -7.041142  1.970202e-12\n",
       "5                               grade:E -1.315941e-02  -3.102979  1.918578e-03\n",
       "6                               grade:F -5.260168e-03  -1.091950  2.748685e-01\n",
       "7               home_ownership:MORTGAGE  2.832212e-03   1.877221  6.050271e-02\n",
       "8                   home_ownership:NONE  1.459035e-01   3.914432  9.092582e-05\n",
       "9                  home_ownership:OTHER -9.475922e-03  -0.462549  6.436926e-01\n",
       "10                   home_ownership:OWN  5.000678e-03   2.057714  3.963089e-02\n",
       "11     verification_status:Not Verified  1.056585e-03   0.593530  5.528332e-01\n",
       "12  verification_status:Source Verified -1.009915e-03  -0.619701  5.354622e-01\n",
       "13                          purpose:car -2.995960e-03  -0.475982  6.340924e-01\n",
       "14           purpose:debt_consolidation  8.206319e-05   0.044262  9.646959e-01\n",
       "15                  purpose:educational  7.625467e-02   5.837945  5.368894e-09\n",
       "16             purpose:home_improvement -3.702374e-03  -1.096376  2.729279e-01\n",
       "17                        purpose:house -3.786803e-03  -0.495856  6.200015e-01\n",
       "18               purpose:major_purchase  2.914439e-03   0.616324  5.376877e-01\n",
       "19                      purpose:medical  1.078825e-02   1.787251  7.391253e-02\n",
       "20                       purpose:moving  1.398692e-02   2.068030  3.865040e-02\n",
       "21                        purpose:other  4.841345e-03   1.603218  1.089028e-01\n",
       "22             purpose:renewable_energy  2.420645e-02   1.467247  1.423251e-01\n",
       "23               purpose:small_business  6.212343e-04   0.164659  8.692143e-01\n",
       "24                     purpose:vacation -3.002398e-03  -0.343553  7.311861e-01\n",
       "25                      purpose:wedding  2.034853e-02   2.774151  5.539872e-03\n",
       "26                initial_list_status:w  1.464671e-02   7.845721  4.662937e-15\n",
       "27                             term_int  3.316229e-04   2.318608  2.042660e-02\n",
       "28                       emp_length_int  8.727462e-05   0.474572  6.350976e-01\n",
       "29                   mths_since_issue_d -1.521649e-03 -32.000312  0.000000e+00\n",
       "30          mths_since_earliest_cr_line  3.418678e-05   3.870929  1.087757e-04\n",
       "31                          funded_amnt -2.186999e-07  -0.386353  6.992397e-01\n",
       "32                             int_rate -2.544714e-03  -7.663063  1.887379e-14\n",
       "33                          installment -1.037621e-05  -0.587509  5.568684e-01\n",
       "34                           annual_inc  6.389841e-08   3.214566  1.308549e-03\n",
       "35                                  dti  1.775655e-04   1.818656  6.897933e-02\n",
       "36                          delinq_2yrs  1.757943e-03   1.956347  5.043858e-02\n",
       "37                       inq_last_6mths  1.274095e-03   2.361841  1.819423e-02\n",
       "38               mths_since_last_delinq -1.094747e-06  -0.036488  9.708935e-01\n",
       "39               mths_since_last_record -5.558083e-05  -1.337928  1.809354e-01\n",
       "40                             open_acc -1.196505e-03  -6.062391  1.365854e-09\n",
       "41                              pub_rec  3.447322e-03   1.259244  2.079574e-01\n",
       "42                            total_acc  4.766629e-04   5.448784  5.133116e-08\n",
       "43                       acc_now_delinq  4.278394e-03   0.442200  6.583494e-01\n",
       "44                     total_rev_hi_lim  2.263456e-07   5.569222  2.592628e-08"
      ]
     },
     "execution_count": 212,
     "metadata": {},
     "output_type": "execute_result"
    }
   ],
   "source": [
    "summary_table = pd.DataFrame(columns = ['Feature name'], data = feature_name)\n",
    "# Creates a dataframe with a column titled 'Feature name' and row values contained in the 'feature_name' variable.\n",
    "summary_table['Coefficients'] = np.transpose(reg_lgd_s2.coef_)\n",
    "# Creates a new column in the dataframe, called 'Coefficients',\n",
    "# with row values the transposed coefficients from the 'LogisticRegression' object.\n",
    "summary_table.index = summary_table.index + 1\n",
    "# Increases the index of every row of the dataframe with 1.\n",
    "summary_table.loc[0] = ['Intercept', reg_lgd_s2.intercept_]\n",
    "# Assigns values of the row with index 0 of the dataframe.\n",
    "summary_table = summary_table.sort_index()\n",
    "# Sorts the dataframe by index.\n",
    "t_values = reg_lgd_s2.t\n",
    "# We take the result of the newly added method 't_values' and store it in a variable 't_values'.\n",
    "t_values = np.append(np.nan,np.array(t_values))\n",
    "# We add the value 'NaN' in the beginning of the variable with p-values.\n",
    "summary_table['t_values'] = t_values\n",
    "# Sorts the dataframe by index.\n",
    "p_values = reg_lgd_s2.p\n",
    "# We take the result of the newly added method 'p_values' and store it in a variable 'p_values'.\n",
    "p_values = np.append(np.nan,np.array(p_values))\n",
    "# We add the value 'NaN' in the beginning of the variable with p-values.\n",
    "summary_table['p_values'] = p_values\n",
    "# In the 'summary_table' dataframe, we add a new column, called 'p_values', containing the values from the 'p_values' variable.\n",
    "summary_table"
   ]
  },
  {
   "cell_type": "markdown",
   "id": "412b4cd9-6572-40e8-9a17-46fba21ecd34",
   "metadata": {},
   "source": [
    "### Model Validation - Stage 2"
   ]
  },
  {
   "cell_type": "code",
   "execution_count": 213,
   "id": "f8de18ad-8924-4947-8325-ffc4462d68f7",
   "metadata": {},
   "outputs": [],
   "source": [
    "X_test_s_2 = X_test_s_2[features_all]"
   ]
  },
  {
   "cell_type": "code",
   "execution_count": 214,
   "id": "992844b6-6517-4fc6-97d1-becc2ca31fe6",
   "metadata": {},
   "outputs": [],
   "source": [
    "X_test_s_2 = X_test_s_2.drop(features_reference_cat, axis = 1)"
   ]
  },
  {
   "cell_type": "code",
   "execution_count": 215,
   "id": "fd7ec064-df10-4373-97a7-db8cfe3edafd",
   "metadata": {},
   "outputs": [
    {
     "data": {
      "text/plain": [
       "array(['grade:A', 'grade:B', 'grade:C', 'grade:D', 'grade:E', 'grade:F',\n",
       "       'home_ownership:MORTGAGE', 'home_ownership:NONE',\n",
       "       'home_ownership:OTHER', 'home_ownership:OWN',\n",
       "       'verification_status:Not Verified',\n",
       "       'verification_status:Source Verified', 'purpose:car',\n",
       "       'purpose:debt_consolidation', 'purpose:educational',\n",
       "       'purpose:home_improvement', 'purpose:house',\n",
       "       'purpose:major_purchase', 'purpose:medical', 'purpose:moving',\n",
       "       'purpose:other', 'purpose:renewable_energy',\n",
       "       'purpose:small_business', 'purpose:vacation', 'purpose:wedding',\n",
       "       'initial_list_status:w', 'term_int', 'emp_length_int',\n",
       "       'mths_since_issue_d', 'mths_since_earliest_cr_line', 'funded_amnt',\n",
       "       'int_rate', 'installment', 'annual_inc', 'dti', 'delinq_2yrs',\n",
       "       'inq_last_6mths', 'mths_since_last_delinq',\n",
       "       'mths_since_last_record', 'open_acc', 'pub_rec', 'total_acc',\n",
       "       'acc_now_delinq', 'total_rev_hi_lim'], dtype=object)"
      ]
     },
     "execution_count": 215,
     "metadata": {},
     "output_type": "execute_result"
    }
   ],
   "source": [
    "X_test_s_2.columns.values"
   ]
  },
  {
   "cell_type": "code",
   "execution_count": 216,
   "id": "4f82875e-812b-4e1b-9353-f9f12ab5a2e6",
   "metadata": {},
   "outputs": [],
   "source": [
    "y_hat_test_lgd_s_2 = reg_lgd_s2.predict(X_test_s_2)"
   ]
  },
  {
   "cell_type": "code",
   "execution_count": 217,
   "id": "10db8154-cc34-454b-971a-d27a1edfae68",
   "metadata": {},
   "outputs": [],
   "source": [
    "lgd_targets_s2_temp = y_test_s_2"
   ]
  },
  {
   "cell_type": "code",
   "execution_count": 218,
   "id": "5508c690-0619-4a6e-a613-6bba471efb42",
   "metadata": {},
   "outputs": [],
   "source": [
    "lgd_targets_s2_temp = lgd_targets_s2_temp.reset_index(drop = True)"
   ]
  },
  {
   "cell_type": "code",
   "execution_count": 219,
   "id": "a966c21f-a272-46c3-a77f-78eb992447ba",
   "metadata": {},
   "outputs": [
    {
     "data": {
      "text/html": [
       "<div>\n",
       "<style scoped>\n",
       "    .dataframe tbody tr th:only-of-type {\n",
       "        vertical-align: middle;\n",
       "    }\n",
       "\n",
       "    .dataframe tbody tr th {\n",
       "        vertical-align: top;\n",
       "    }\n",
       "\n",
       "    .dataframe thead th {\n",
       "        text-align: right;\n",
       "    }\n",
       "</style>\n",
       "<table border=\"1\" class=\"dataframe\">\n",
       "  <thead>\n",
       "    <tr style=\"text-align: right;\">\n",
       "      <th></th>\n",
       "      <th>recovery_rate</th>\n",
       "      <th>0</th>\n",
       "    </tr>\n",
       "  </thead>\n",
       "  <tbody>\n",
       "    <tr>\n",
       "      <th>recovery_rate</th>\n",
       "      <td>1.000000</td>\n",
       "      <td>0.307996</td>\n",
       "    </tr>\n",
       "    <tr>\n",
       "      <th>0</th>\n",
       "      <td>0.307996</td>\n",
       "      <td>1.000000</td>\n",
       "    </tr>\n",
       "  </tbody>\n",
       "</table>\n",
       "</div>"
      ],
      "text/plain": [
       "               recovery_rate         0\n",
       "recovery_rate       1.000000  0.307996\n",
       "0                   0.307996  1.000000"
      ]
     },
     "execution_count": 219,
     "metadata": {},
     "output_type": "execute_result"
    }
   ],
   "source": [
    "pd.concat([lgd_targets_s2_temp, pd.DataFrame(y_hat_test_lgd_s_2)], axis = 1).corr()"
   ]
  },
  {
   "cell_type": "code",
   "execution_count": 220,
   "id": "db51ab2e-4d57-4ec6-a5c5-cd99022ab8fa",
   "metadata": {},
   "outputs": [
    {
     "data": {
      "text/plain": [
       "<Axes: xlabel='recovery_rate', ylabel='Density'>"
      ]
     },
     "execution_count": 220,
     "metadata": {},
     "output_type": "execute_result"
    },
    {
     "data": {
      "image/png": "[encoded data removed]",
      "text/plain": [
       "<Figure size 640x480 with 1 Axes>"
      ]
     },
     "metadata": {},
     "output_type": "display_data"
    }
   ],
   "source": [
    "sns.distplot(y_test_s_2 - y_hat_test_lgd_s_2)"
   ]
  },
  {
   "cell_type": "code",
   "execution_count": 221,
   "id": "d78bd4b5-cef4-4028-9786-caa9717d9354",
   "metadata": {},
   "outputs": [],
   "source": [
    "#Saving the stage 2 model\n",
    "pickle.dump(reg_lgd_s2, open('reg_lgd_s2.sav','wb'))"
   ]
  },
  {
   "cell_type": "markdown",
   "id": "bb5c92c8-598f-4277-a6cf-767a8d867f0b",
   "metadata": {},
   "source": [
    "### Combining Stage 1 and 2"
   ]
  },
  {
   "cell_type": "code",
   "execution_count": 222,
   "id": "f255ffb9-136a-4708-b526-9add5c51381d",
   "metadata": {},
   "outputs": [],
   "source": [
    "y_hat_test_lgd_stage_2_all = reg_lgd_s2.predict(X_test_s_1)"
   ]
  },
  {
   "cell_type": "code",
   "execution_count": 223,
   "id": "d96064e1-2828-4eb4-9c1e-71e7b3bb32db",
   "metadata": {},
   "outputs": [
    {
     "data": {
      "text/plain": [
       "array([0.1193906 , 0.09605635, 0.13367631, ..., 0.12078611, 0.11587422,\n",
       "       0.15667447])"
      ]
     },
     "execution_count": 223,
     "metadata": {},
     "output_type": "execute_result"
    }
   ],
   "source": [
    "y_hat_test_lgd_stage_2_all"
   ]
  },
  {
   "cell_type": "code",
   "execution_count": 225,
   "id": "320215be-7872-4b21-9693-169273bb747b",
   "metadata": {},
   "outputs": [],
   "source": [
    "#Every observation classified as 0 by the stage 1 logistic regression model has estimated recovery rate of 0\n",
    "#Every observation classified as 1 by the stage 1 logistic regression model has estimated recovery rate of stage 2 mlrm model"
   ]
  },
  {
   "cell_type": "code",
   "execution_count": 226,
   "id": "7175f245-f279-4bfb-bba8-da40d5705c9c",
   "metadata": {},
   "outputs": [],
   "source": [
    "y_hat_test_lgd = y_hat_test_lgd_s_1 * y_hat_test_lgd_stage_2_all"
   ]
  },
  {
   "cell_type": "code",
   "execution_count": 228,
   "id": "c3c001f0-9200-406a-94f9-a095187614e2",
   "metadata": {},
   "outputs": [
    {
     "data": {
      "text/html": [
       "<div>\n",
       "<style scoped>\n",
       "    .dataframe tbody tr th:only-of-type {\n",
       "        vertical-align: middle;\n",
       "    }\n",
       "\n",
       "    .dataframe tbody tr th {\n",
       "        vertical-align: top;\n",
       "    }\n",
       "\n",
       "    .dataframe thead th {\n",
       "        text-align: right;\n",
       "    }\n",
       "</style>\n",
       "<table border=\"1\" class=\"dataframe\">\n",
       "  <thead>\n",
       "    <tr style=\"text-align: right;\">\n",
       "      <th></th>\n",
       "      <th>count</th>\n",
       "      <th>mean</th>\n",
       "      <th>std</th>\n",
       "      <th>min</th>\n",
       "      <th>25%</th>\n",
       "      <th>50%</th>\n",
       "      <th>75%</th>\n",
       "      <th>max</th>\n",
       "    </tr>\n",
       "  </thead>\n",
       "  <tbody>\n",
       "    <tr>\n",
       "      <th>0</th>\n",
       "      <td>8648.0</td>\n",
       "      <td>0.086308</td>\n",
       "      <td>0.049819</td>\n",
       "      <td>-0.007634</td>\n",
       "      <td>0.06236</td>\n",
       "      <td>0.100542</td>\n",
       "      <td>0.122637</td>\n",
       "      <td>0.236973</td>\n",
       "    </tr>\n",
       "  </tbody>\n",
       "</table>\n",
       "</div>"
      ],
      "text/plain": [
       "    count      mean       std       min      25%       50%       75%       max\n",
       "0  8648.0  0.086308  0.049819 -0.007634  0.06236  0.100542  0.122637  0.236973"
      ]
     },
     "execution_count": 228,
     "metadata": {},
     "output_type": "execute_result"
    }
   ],
   "source": [
    "pd.DataFrame(y_hat_test_lgd).describe().T"
   ]
  },
  {
   "cell_type": "code",
   "execution_count": 230,
   "id": "6874cdcf-7956-443f-9f27-766283b86250",
   "metadata": {},
   "outputs": [],
   "source": [
    "#min value is negative which is not intiutive\n",
    "#Flooring recovery rate to 0"
   ]
  },
  {
   "cell_type": "code",
   "execution_count": 231,
   "id": "e6d5fc6b-b4cd-41dd-8ae6-cacbc9272356",
   "metadata": {},
   "outputs": [],
   "source": [
    "y_hat_test_lgd = np.where(y_hat_test_lgd < 0, 0, y_hat_test_lgd)\n",
    "y_hat_test_lgd = np.where(y_hat_test_lgd > 1, 1, y_hat_test_lgd)"
   ]
  },
  {
   "cell_type": "code",
   "execution_count": 232,
   "id": "9eed6f2c-217a-4758-b1e1-6581b1daac07",
   "metadata": {},
   "outputs": [
    {
     "data": {
      "text/html": [
       "<div>\n",
       "<style scoped>\n",
       "    .dataframe tbody tr th:only-of-type {\n",
       "        vertical-align: middle;\n",
       "    }\n",
       "\n",
       "    .dataframe tbody tr th {\n",
       "        vertical-align: top;\n",
       "    }\n",
       "\n",
       "    .dataframe thead th {\n",
       "        text-align: right;\n",
       "    }\n",
       "</style>\n",
       "<table border=\"1\" class=\"dataframe\">\n",
       "  <thead>\n",
       "    <tr style=\"text-align: right;\">\n",
       "      <th></th>\n",
       "      <th>count</th>\n",
       "      <th>mean</th>\n",
       "      <th>std</th>\n",
       "      <th>min</th>\n",
       "      <th>25%</th>\n",
       "      <th>50%</th>\n",
       "      <th>75%</th>\n",
       "      <th>max</th>\n",
       "    </tr>\n",
       "  </thead>\n",
       "  <tbody>\n",
       "    <tr>\n",
       "      <th>0</th>\n",
       "      <td>8648.0</td>\n",
       "      <td>0.08631</td>\n",
       "      <td>0.049815</td>\n",
       "      <td>0.0</td>\n",
       "      <td>0.06236</td>\n",
       "      <td>0.100542</td>\n",
       "      <td>0.122637</td>\n",
       "      <td>0.236973</td>\n",
       "    </tr>\n",
       "  </tbody>\n",
       "</table>\n",
       "</div>"
      ],
      "text/plain": [
       "    count     mean       std  min      25%       50%       75%       max\n",
       "0  8648.0  0.08631  0.049815  0.0  0.06236  0.100542  0.122637  0.236973"
      ]
     },
     "execution_count": 232,
     "metadata": {},
     "output_type": "execute_result"
    }
   ],
   "source": [
    "pd.DataFrame(y_hat_test_lgd).describe().T"
   ]
  },
  {
   "cell_type": "markdown",
   "id": "fd31f3f6-95fe-4037-bbd6-74e4ffd750de",
   "metadata": {},
   "source": [
    "# EAD Model"
   ]
  },
  {
   "cell_type": "markdown",
   "id": "2f907244-d46f-47bd-b18d-16d12cbceb05",
   "metadata": {},
   "source": [
    "### Model Development"
   ]
  },
  {
   "cell_type": "code",
   "execution_count": 233,
   "id": "624d8d78-931f-4e3f-a780-29cc4d03e219",
   "metadata": {},
   "outputs": [],
   "source": [
    "#dependent variable: CCF\n",
    "\n",
    "##CCF can be defined as the proportion of amount that is outstanding out of original amount of loan, when borrower defaulted. "
   ]
  },
  {
   "cell_type": "code",
   "execution_count": 240,
   "id": "db219f1d-4531-4f22-bd70-d9452edcb203",
   "metadata": {},
   "outputs": [],
   "source": [
    "X_train_ead, X_test_ead, y_train_ead, y_test_ead = train_test_split(\n",
    "    loan_data_defaults.drop(['good_bad', 'recovery_rate', 'recovery_rate_0_1', 'CCF'], axis = 1),\n",
    "    loan_data_defaults['CCF'], random_state = 42, test_size = 0.2\n",
    ")"
   ]
  },
  {
   "cell_type": "code",
   "execution_count": 241,
   "id": "733bdb40-9b83-4c56-9894-c21700bd21af",
   "metadata": {},
   "outputs": [],
   "source": [
    "#Selecting only required variables\n",
    "X_train_ead = X_train_ead[features_all]"
   ]
  },
  {
   "cell_type": "code",
   "execution_count": 242,
   "id": "48b30256-8695-4257-be3c-17abefdc727a",
   "metadata": {},
   "outputs": [],
   "source": [
    "#Dropping reference variable for categorical variable\n",
    "X_train_ead = X_train_ead.drop(features_reference_cat, axis = 1)"
   ]
  },
  {
   "cell_type": "code",
   "execution_count": 243,
   "id": "1bff28d9-19c8-4c2d-8241-57782313cd32",
   "metadata": {},
   "outputs": [],
   "source": [
    "reg_ead = LinearRegression()"
   ]
  },
  {
   "cell_type": "code",
   "execution_count": 244,
   "id": "e3a1680f-5111-4692-9ee9-b2d19c6ed7f5",
   "metadata": {},
   "outputs": [
    {
     "data": {
      "text/html": [
       "<style>#sk-container-id-7 {color: black;background-color: white;}#sk-container-id-7 pre{padding: 0;}#sk-container-id-7 div.sk-toggleable {background-color: white;}#sk-container-id-7 label.sk-toggleable__label {cursor: pointer;display: block;width: 100%;margin-bottom: 0;padding: 0.3em;box-sizing: border-box;text-align: center;}#sk-container-id-7 label.sk-toggleable__label-arrow:before {content: \"▸\";float: left;margin-right: 0.25em;color: #696969;}#sk-container-id-7 label.sk-toggleable__label-arrow:hover:before {color: black;}#sk-container-id-7 div.sk-estimator:hover label.sk-toggleable__label-arrow:before {color: black;}#sk-container-id-7 div.sk-toggleable__content {max-height: 0;max-width: 0;overflow: hidden;text-align: left;background-color: #f0f8ff;}#sk-container-id-7 div.sk-toggleable__content pre {margin: 0.2em;color: black;border-radius: 0.25em;background-color: #f0f8ff;}#sk-container-id-7 input.sk-toggleable__control:checked~div.sk-toggleable__content {max-height: 200px;max-width: 100%;overflow: auto;}#sk-container-id-7 input.sk-toggleable__control:checked~label.sk-toggleable__label-arrow:before {content: \"▾\";}#sk-container-id-7 div.sk-estimator input.sk-toggleable__control:checked~label.sk-toggleable__label {background-color: #d4ebff;}#sk-container-id-7 div.sk-label input.sk-toggleable__control:checked~label.sk-toggleable__label {background-color: #d4ebff;}#sk-container-id-7 input.sk-hidden--visually {border: 0;clip: rect(1px 1px 1px 1px);clip: rect(1px, 1px, 1px, 1px);height: 1px;margin: -1px;overflow: hidden;padding: 0;position: absolute;width: 1px;}#sk-container-id-7 div.sk-estimator {font-family: monospace;background-color: #f0f8ff;border: 1px dotted black;border-radius: 0.25em;box-sizing: border-box;margin-bottom: 0.5em;}#sk-container-id-7 div.sk-estimator:hover {background-color: #d4ebff;}#sk-container-id-7 div.sk-parallel-item::after {content: \"\";width: 100%;border-bottom: 1px solid gray;flex-grow: 1;}#sk-container-id-7 div.sk-label:hover label.sk-toggleable__label {background-color: #d4ebff;}#sk-container-id-7 div.sk-serial::before {content: \"\";position: absolute;border-left: 1px solid gray;box-sizing: border-box;top: 0;bottom: 0;left: 50%;z-index: 0;}#sk-container-id-7 div.sk-serial {display: flex;flex-direction: column;align-items: center;background-color: white;padding-right: 0.2em;padding-left: 0.2em;position: relative;}#sk-container-id-7 div.sk-item {position: relative;z-index: 1;}#sk-container-id-7 div.sk-parallel {display: flex;align-items: stretch;justify-content: center;background-color: white;position: relative;}#sk-container-id-7 div.sk-item::before, #sk-container-id-7 div.sk-parallel-item::before {content: \"\";position: absolute;border-left: 1px solid gray;box-sizing: border-box;top: 0;bottom: 0;left: 50%;z-index: -1;}#sk-container-id-7 div.sk-parallel-item {display: flex;flex-direction: column;z-index: 1;position: relative;background-color: white;}#sk-container-id-7 div.sk-parallel-item:first-child::after {align-self: flex-end;width: 50%;}#sk-container-id-7 div.sk-parallel-item:last-child::after {align-self: flex-start;width: 50%;}#sk-container-id-7 div.sk-parallel-item:only-child::after {width: 0;}#sk-container-id-7 div.sk-dashed-wrapped {border: 1px dashed gray;margin: 0 0.4em 0.5em 0.4em;box-sizing: border-box;padding-bottom: 0.4em;background-color: white;}#sk-container-id-7 div.sk-label label {font-family: monospace;font-weight: bold;display: inline-block;line-height: 1.2em;}#sk-container-id-7 div.sk-label-container {text-align: center;}#sk-container-id-7 div.sk-container {/* jupyter's `normalize.less` sets `[hidden] { display: none; }` but bootstrap.min.css set `[hidden] { display: none !important; }` so we also need the `!important` here to be able to override the default hidden behavior on the sphinx rendered scikit-learn.org. See: https://github.com/scikit-learn/scikit-learn/issues/21755 */display: inline-block !important;position: relative;}#sk-container-id-7 div.sk-text-repr-fallback {display: none;}</style><div id=\"sk-container-id-7\" class=\"sk-top-container\"><div class=\"sk-text-repr-fallback\"><pre>LinearRegression()</pre><b>In a Jupyter environment, please rerun this cell to show the HTML representation or trust the notebook. <br />On GitHub, the HTML representation is unable to render, please try loading this page with nbviewer.org.</b></div><div class=\"sk-container\" hidden><div class=\"sk-item\"><div class=\"sk-estimator sk-toggleable\"><input class=\"sk-toggleable__control sk-hidden--visually\" id=\"sk-estimator-id-7\" type=\"checkbox\" checked><label for=\"sk-estimator-id-7\" class=\"sk-toggleable__label sk-toggleable__label-arrow\">LinearRegression</label><div class=\"sk-toggleable__content\"><pre>LinearRegression()</pre></div></div></div></div></div>"
      ],
      "text/plain": [
       "LinearRegression()"
      ]
     },
     "execution_count": 244,
     "metadata": {},
     "output_type": "execute_result"
    }
   ],
   "source": [
    "reg_ead.fit(X_train_ead, y_train_ead)"
   ]
  },
  {
   "cell_type": "code",
   "execution_count": 245,
   "id": "c350c865-c6a8-4ab2-859d-7cc6464a764d",
   "metadata": {},
   "outputs": [],
   "source": [
    "feature_name = X_train_ead.columns.values"
   ]
  },
  {
   "cell_type": "code",
   "execution_count": 246,
   "id": "1e238380-5460-4b56-9f19-c2050c815fb3",
   "metadata": {},
   "outputs": [
    {
     "data": {
      "text/html": [
       "<div>\n",
       "<style scoped>\n",
       "    .dataframe tbody tr th:only-of-type {\n",
       "        vertical-align: middle;\n",
       "    }\n",
       "\n",
       "    .dataframe tbody tr th {\n",
       "        vertical-align: top;\n",
       "    }\n",
       "\n",
       "    .dataframe thead th {\n",
       "        text-align: right;\n",
       "    }\n",
       "</style>\n",
       "<table border=\"1\" class=\"dataframe\">\n",
       "  <thead>\n",
       "    <tr style=\"text-align: right;\">\n",
       "      <th></th>\n",
       "      <th>Feature name</th>\n",
       "      <th>Coefficients</th>\n",
       "      <th>t_values</th>\n",
       "      <th>p_values</th>\n",
       "    </tr>\n",
       "  </thead>\n",
       "  <tbody>\n",
       "    <tr>\n",
       "      <th>0</th>\n",
       "      <td>Intercept</td>\n",
       "      <td>1.109746e+00</td>\n",
       "      <td>NaN</td>\n",
       "      <td>NaN</td>\n",
       "    </tr>\n",
       "    <tr>\n",
       "      <th>1</th>\n",
       "      <td>grade:A</td>\n",
       "      <td>-3.030033e-01</td>\n",
       "      <td>-44.058986</td>\n",
       "      <td>0.000000e+00</td>\n",
       "    </tr>\n",
       "    <tr>\n",
       "      <th>2</th>\n",
       "      <td>grade:B</td>\n",
       "      <td>-2.364277e-01</td>\n",
       "      <td>-42.322578</td>\n",
       "      <td>0.000000e+00</td>\n",
       "    </tr>\n",
       "    <tr>\n",
       "      <th>3</th>\n",
       "      <td>grade:C</td>\n",
       "      <td>-1.720232e-01</td>\n",
       "      <td>-31.696208</td>\n",
       "      <td>0.000000e+00</td>\n",
       "    </tr>\n",
       "    <tr>\n",
       "      <th>4</th>\n",
       "      <td>grade:D</td>\n",
       "      <td>-1.198470e-01</td>\n",
       "      <td>-21.147987</td>\n",
       "      <td>0.000000e+00</td>\n",
       "    </tr>\n",
       "    <tr>\n",
       "      <th>5</th>\n",
       "      <td>grade:E</td>\n",
       "      <td>-6.768713e-02</td>\n",
       "      <td>-10.820215</td>\n",
       "      <td>0.000000e+00</td>\n",
       "    </tr>\n",
       "    <tr>\n",
       "      <th>6</th>\n",
       "      <td>grade:F</td>\n",
       "      <td>-2.045907e-02</td>\n",
       "      <td>-2.846074</td>\n",
       "      <td>4.428795e-03</td>\n",
       "    </tr>\n",
       "    <tr>\n",
       "      <th>7</th>\n",
       "      <td>home_ownership:MORTGAGE</td>\n",
       "      <td>-6.343341e-03</td>\n",
       "      <td>-3.007903</td>\n",
       "      <td>2.632464e-03</td>\n",
       "    </tr>\n",
       "    <tr>\n",
       "      <th>8</th>\n",
       "      <td>home_ownership:NONE</td>\n",
       "      <td>-5.539065e-03</td>\n",
       "      <td>-0.085464</td>\n",
       "      <td>9.318931e-01</td>\n",
       "    </tr>\n",
       "    <tr>\n",
       "      <th>9</th>\n",
       "      <td>home_ownership:OTHER</td>\n",
       "      <td>-2.426052e-03</td>\n",
       "      <td>-0.083340</td>\n",
       "      <td>9.335820e-01</td>\n",
       "    </tr>\n",
       "    <tr>\n",
       "      <th>10</th>\n",
       "      <td>home_ownership:OWN</td>\n",
       "      <td>-1.619582e-03</td>\n",
       "      <td>-0.472446</td>\n",
       "      <td>6.366112e-01</td>\n",
       "    </tr>\n",
       "    <tr>\n",
       "      <th>11</th>\n",
       "      <td>verification_status:Not Verified</td>\n",
       "      <td>5.339510e-05</td>\n",
       "      <td>0.021522</td>\n",
       "      <td>9.828295e-01</td>\n",
       "    </tr>\n",
       "    <tr>\n",
       "      <th>12</th>\n",
       "      <td>verification_status:Source Verified</td>\n",
       "      <td>8.967822e-03</td>\n",
       "      <td>3.950052</td>\n",
       "      <td>7.828941e-05</td>\n",
       "    </tr>\n",
       "    <tr>\n",
       "      <th>13</th>\n",
       "      <td>purpose:car</td>\n",
       "      <td>7.904787e-04</td>\n",
       "      <td>0.084040</td>\n",
       "      <td>9.330252e-01</td>\n",
       "    </tr>\n",
       "    <tr>\n",
       "      <th>14</th>\n",
       "      <td>purpose:debt_consolidation</td>\n",
       "      <td>1.264922e-02</td>\n",
       "      <td>4.995451</td>\n",
       "      <td>5.898438e-07</td>\n",
       "    </tr>\n",
       "    <tr>\n",
       "      <th>15</th>\n",
       "      <td>purpose:educational</td>\n",
       "      <td>9.643587e-02</td>\n",
       "      <td>4.775380</td>\n",
       "      <td>1.801025e-06</td>\n",
       "    </tr>\n",
       "    <tr>\n",
       "      <th>16</th>\n",
       "      <td>purpose:home_improvement</td>\n",
       "      <td>1.923044e-02</td>\n",
       "      <td>4.062124</td>\n",
       "      <td>4.873543e-05</td>\n",
       "    </tr>\n",
       "    <tr>\n",
       "      <th>17</th>\n",
       "      <td>purpose:house</td>\n",
       "      <td>1.607120e-02</td>\n",
       "      <td>1.387281</td>\n",
       "      <td>1.653651e-01</td>\n",
       "    </tr>\n",
       "    <tr>\n",
       "      <th>18</th>\n",
       "      <td>purpose:major_purchase</td>\n",
       "      <td>2.984917e-02</td>\n",
       "      <td>4.244371</td>\n",
       "      <td>2.197793e-05</td>\n",
       "    </tr>\n",
       "    <tr>\n",
       "      <th>19</th>\n",
       "      <td>purpose:medical</td>\n",
       "      <td>3.962479e-02</td>\n",
       "      <td>4.555729</td>\n",
       "      <td>5.238263e-06</td>\n",
       "    </tr>\n",
       "    <tr>\n",
       "      <th>20</th>\n",
       "      <td>purpose:moving</td>\n",
       "      <td>4.577630e-02</td>\n",
       "      <td>4.672457</td>\n",
       "      <td>2.987383e-06</td>\n",
       "    </tr>\n",
       "    <tr>\n",
       "      <th>21</th>\n",
       "      <td>purpose:other</td>\n",
       "      <td>3.706744e-02</td>\n",
       "      <td>8.544769</td>\n",
       "      <td>0.000000e+00</td>\n",
       "    </tr>\n",
       "    <tr>\n",
       "      <th>22</th>\n",
       "      <td>purpose:renewable_energy</td>\n",
       "      <td>7.212969e-02</td>\n",
       "      <td>2.616409</td>\n",
       "      <td>8.889877e-03</td>\n",
       "    </tr>\n",
       "    <tr>\n",
       "      <th>23</th>\n",
       "      <td>purpose:small_business</td>\n",
       "      <td>5.128674e-02</td>\n",
       "      <td>8.895850</td>\n",
       "      <td>0.000000e+00</td>\n",
       "    </tr>\n",
       "    <tr>\n",
       "      <th>24</th>\n",
       "      <td>purpose:vacation</td>\n",
       "      <td>1.874863e-02</td>\n",
       "      <td>1.574980</td>\n",
       "      <td>1.152702e-01</td>\n",
       "    </tr>\n",
       "    <tr>\n",
       "      <th>25</th>\n",
       "      <td>purpose:wedding</td>\n",
       "      <td>4.350522e-02</td>\n",
       "      <td>3.715388</td>\n",
       "      <td>2.032121e-04</td>\n",
       "    </tr>\n",
       "    <tr>\n",
       "      <th>26</th>\n",
       "      <td>initial_list_status:w</td>\n",
       "      <td>1.318126e-02</td>\n",
       "      <td>5.815041</td>\n",
       "      <td>6.115181e-09</td>\n",
       "    </tr>\n",
       "    <tr>\n",
       "      <th>27</th>\n",
       "      <td>term_int</td>\n",
       "      <td>4.551882e-03</td>\n",
       "      <td>22.062061</td>\n",
       "      <td>0.000000e+00</td>\n",
       "    </tr>\n",
       "    <tr>\n",
       "      <th>28</th>\n",
       "      <td>emp_length_int</td>\n",
       "      <td>-1.591478e-03</td>\n",
       "      <td>-6.240773</td>\n",
       "      <td>4.404626e-10</td>\n",
       "    </tr>\n",
       "    <tr>\n",
       "      <th>29</th>\n",
       "      <td>mths_since_issue_d</td>\n",
       "      <td>-4.305274e-03</td>\n",
       "      <td>-63.306049</td>\n",
       "      <td>0.000000e+00</td>\n",
       "    </tr>\n",
       "    <tr>\n",
       "      <th>30</th>\n",
       "      <td>mths_since_earliest_cr_line</td>\n",
       "      <td>-3.634030e-05</td>\n",
       "      <td>-2.995480</td>\n",
       "      <td>2.742071e-03</td>\n",
       "    </tr>\n",
       "    <tr>\n",
       "      <th>31</th>\n",
       "      <td>funded_amnt</td>\n",
       "      <td>2.212126e-06</td>\n",
       "      <td>2.686443</td>\n",
       "      <td>7.225181e-03</td>\n",
       "    </tr>\n",
       "    <tr>\n",
       "      <th>32</th>\n",
       "      <td>int_rate</td>\n",
       "      <td>-1.172652e-02</td>\n",
       "      <td>-24.569996</td>\n",
       "      <td>0.000000e+00</td>\n",
       "    </tr>\n",
       "    <tr>\n",
       "      <th>33</th>\n",
       "      <td>installment</td>\n",
       "      <td>-6.865607e-05</td>\n",
       "      <td>-2.677122</td>\n",
       "      <td>7.429261e-03</td>\n",
       "    </tr>\n",
       "    <tr>\n",
       "      <th>34</th>\n",
       "      <td>annual_inc</td>\n",
       "      <td>5.021817e-09</td>\n",
       "      <td>0.179598</td>\n",
       "      <td>8.574696e-01</td>\n",
       "    </tr>\n",
       "    <tr>\n",
       "      <th>35</th>\n",
       "      <td>dti</td>\n",
       "      <td>2.832769e-04</td>\n",
       "      <td>2.093351</td>\n",
       "      <td>3.632507e-02</td>\n",
       "    </tr>\n",
       "    <tr>\n",
       "      <th>36</th>\n",
       "      <td>delinq_2yrs</td>\n",
       "      <td>4.833234e-04</td>\n",
       "      <td>0.392562</td>\n",
       "      <td>6.946456e-01</td>\n",
       "    </tr>\n",
       "    <tr>\n",
       "      <th>37</th>\n",
       "      <td>inq_last_6mths</td>\n",
       "      <td>1.131678e-02</td>\n",
       "      <td>14.925160</td>\n",
       "      <td>0.000000e+00</td>\n",
       "    </tr>\n",
       "    <tr>\n",
       "      <th>38</th>\n",
       "      <td>mths_since_last_delinq</td>\n",
       "      <td>-1.965980e-04</td>\n",
       "      <td>-4.657000</td>\n",
       "      <td>3.220434e-06</td>\n",
       "    </tr>\n",
       "    <tr>\n",
       "      <th>39</th>\n",
       "      <td>mths_since_last_record</td>\n",
       "      <td>-5.085639e-05</td>\n",
       "      <td>-0.975761</td>\n",
       "      <td>3.291896e-01</td>\n",
       "    </tr>\n",
       "    <tr>\n",
       "      <th>40</th>\n",
       "      <td>open_acc</td>\n",
       "      <td>-2.142130e-03</td>\n",
       "      <td>-7.852728</td>\n",
       "      <td>4.218847e-15</td>\n",
       "    </tr>\n",
       "    <tr>\n",
       "      <th>41</th>\n",
       "      <td>pub_rec</td>\n",
       "      <td>6.782062e-03</td>\n",
       "      <td>2.028396</td>\n",
       "      <td>4.252750e-02</td>\n",
       "    </tr>\n",
       "    <tr>\n",
       "      <th>42</th>\n",
       "      <td>total_acc</td>\n",
       "      <td>4.518110e-04</td>\n",
       "      <td>3.731969</td>\n",
       "      <td>1.902931e-04</td>\n",
       "    </tr>\n",
       "    <tr>\n",
       "      <th>43</th>\n",
       "      <td>acc_now_delinq</td>\n",
       "      <td>9.974801e-03</td>\n",
       "      <td>0.672486</td>\n",
       "      <td>5.012787e-01</td>\n",
       "    </tr>\n",
       "    <tr>\n",
       "      <th>44</th>\n",
       "      <td>total_rev_hi_lim</td>\n",
       "      <td>2.166527e-07</td>\n",
       "      <td>3.939066</td>\n",
       "      <td>8.196014e-05</td>\n",
       "    </tr>\n",
       "  </tbody>\n",
       "</table>\n",
       "</div>"
      ],
      "text/plain": [
       "                           Feature name  Coefficients   t_values      p_values\n",
       "0                             Intercept  1.109746e+00        NaN           NaN\n",
       "1                               grade:A -3.030033e-01 -44.058986  0.000000e+00\n",
       "2                               grade:B -2.364277e-01 -42.322578  0.000000e+00\n",
       "3                               grade:C -1.720232e-01 -31.696208  0.000000e+00\n",
       "4                               grade:D -1.198470e-01 -21.147987  0.000000e+00\n",
       "5                               grade:E -6.768713e-02 -10.820215  0.000000e+00\n",
       "6                               grade:F -2.045907e-02  -2.846074  4.428795e-03\n",
       "7               home_ownership:MORTGAGE -6.343341e-03  -3.007903  2.632464e-03\n",
       "8                   home_ownership:NONE -5.539065e-03  -0.085464  9.318931e-01\n",
       "9                  home_ownership:OTHER -2.426052e-03  -0.083340  9.335820e-01\n",
       "10                   home_ownership:OWN -1.619582e-03  -0.472446  6.366112e-01\n",
       "11     verification_status:Not Verified  5.339510e-05   0.021522  9.828295e-01\n",
       "12  verification_status:Source Verified  8.967822e-03   3.950052  7.828941e-05\n",
       "13                          purpose:car  7.904787e-04   0.084040  9.330252e-01\n",
       "14           purpose:debt_consolidation  1.264922e-02   4.995451  5.898438e-07\n",
       "15                  purpose:educational  9.643587e-02   4.775380  1.801025e-06\n",
       "16             purpose:home_improvement  1.923044e-02   4.062124  4.873543e-05\n",
       "17                        purpose:house  1.607120e-02   1.387281  1.653651e-01\n",
       "18               purpose:major_purchase  2.984917e-02   4.244371  2.197793e-05\n",
       "19                      purpose:medical  3.962479e-02   4.555729  5.238263e-06\n",
       "20                       purpose:moving  4.577630e-02   4.672457  2.987383e-06\n",
       "21                        purpose:other  3.706744e-02   8.544769  0.000000e+00\n",
       "22             purpose:renewable_energy  7.212969e-02   2.616409  8.889877e-03\n",
       "23               purpose:small_business  5.128674e-02   8.895850  0.000000e+00\n",
       "24                     purpose:vacation  1.874863e-02   1.574980  1.152702e-01\n",
       "25                      purpose:wedding  4.350522e-02   3.715388  2.032121e-04\n",
       "26                initial_list_status:w  1.318126e-02   5.815041  6.115181e-09\n",
       "27                             term_int  4.551882e-03  22.062061  0.000000e+00\n",
       "28                       emp_length_int -1.591478e-03  -6.240773  4.404626e-10\n",
       "29                   mths_since_issue_d -4.305274e-03 -63.306049  0.000000e+00\n",
       "30          mths_since_earliest_cr_line -3.634030e-05  -2.995480  2.742071e-03\n",
       "31                          funded_amnt  2.212126e-06   2.686443  7.225181e-03\n",
       "32                             int_rate -1.172652e-02 -24.569996  0.000000e+00\n",
       "33                          installment -6.865607e-05  -2.677122  7.429261e-03\n",
       "34                           annual_inc  5.021817e-09   0.179598  8.574696e-01\n",
       "35                                  dti  2.832769e-04   2.093351  3.632507e-02\n",
       "36                          delinq_2yrs  4.833234e-04   0.392562  6.946456e-01\n",
       "37                       inq_last_6mths  1.131678e-02  14.925160  0.000000e+00\n",
       "38               mths_since_last_delinq -1.965980e-04  -4.657000  3.220434e-06\n",
       "39               mths_since_last_record -5.085639e-05  -0.975761  3.291896e-01\n",
       "40                             open_acc -2.142130e-03  -7.852728  4.218847e-15\n",
       "41                              pub_rec  6.782062e-03   2.028396  4.252750e-02\n",
       "42                            total_acc  4.518110e-04   3.731969  1.902931e-04\n",
       "43                       acc_now_delinq  9.974801e-03   0.672486  5.012787e-01\n",
       "44                     total_rev_hi_lim  2.166527e-07   3.939066  8.196014e-05"
      ]
     },
     "execution_count": 246,
     "metadata": {},
     "output_type": "execute_result"
    }
   ],
   "source": [
    "summary_table = pd.DataFrame(columns = ['Feature name'], data = feature_name)\n",
    "# Creates a dataframe with a column titled 'Feature name' and row values contained in the 'feature_name' variable.\n",
    "summary_table['Coefficients'] = np.transpose(reg_ead.coef_)\n",
    "# Creates a new column in the dataframe, called 'Coefficients',\n",
    "# with row values the transposed coefficients from the 'LogisticRegression' object.\n",
    "summary_table.index = summary_table.index + 1\n",
    "# Increases the index of every row of the dataframe with 1.\n",
    "summary_table.loc[0] = ['Intercept', reg_ead.intercept_]\n",
    "# Assigns values of the row with index 0 of the dataframe.\n",
    "summary_table = summary_table.sort_index()\n",
    "# Sorts the dataframe by index.\n",
    "t_values = reg_ead.t\n",
    "# We take the result of the newly added method 't_values' and store it in a variable 't_values'.\n",
    "t_values = np.append(np.nan,np.array(t_values))\n",
    "# We add the value 'NaN' in the beginning of the variable with p-values.\n",
    "summary_table['t_values'] = t_values\n",
    "# Sorts the dataframe by index.\n",
    "p_values = reg_ead.p\n",
    "# We take the result of the newly added method 'p_values' and store it in a variable 'p_values'.\n",
    "p_values = np.append(np.nan,np.array(p_values))\n",
    "# We add the value 'NaN' in the beginning of the variable with p-values.\n",
    "summary_table['p_values'] = p_values\n",
    "# In the 'summary_table' dataframe, we add a new column, called 'p_values', containing the values from the 'p_values' variable.\n",
    "summary_table"
   ]
  },
  {
   "cell_type": "markdown",
   "id": "dfc6d31e-845e-41d2-8286-035861aac928",
   "metadata": {},
   "source": [
    "### Model Validation"
   ]
  },
  {
   "cell_type": "code",
   "execution_count": 247,
   "id": "aada5360-01d6-4e2d-a725-b6103d403016",
   "metadata": {},
   "outputs": [],
   "source": [
    "X_test_ead = X_test_ead[features_all]"
   ]
  },
  {
   "cell_type": "code",
   "execution_count": 248,
   "id": "40696062-57bb-4573-b703-9d8ba2ba4507",
   "metadata": {},
   "outputs": [],
   "source": [
    "X_test_ead = X_test_ead.drop(features_reference_cat, axis = 1)"
   ]
  },
  {
   "cell_type": "code",
   "execution_count": 249,
   "id": "ecbe7f9e-7afc-46da-b116-cc47586eb80b",
   "metadata": {},
   "outputs": [],
   "source": [
    "y_hat_test_ead = reg_ead.predict(X_test_ead)"
   ]
  },
  {
   "cell_type": "code",
   "execution_count": 250,
   "id": "ac055c5c-9459-4b1a-a81b-5f83711c86db",
   "metadata": {},
   "outputs": [],
   "source": [
    "ead_targets_test_temp = y_test_ead"
   ]
  },
  {
   "cell_type": "code",
   "execution_count": 251,
   "id": "4e5d679c-a179-4989-bd35-a1a830c4da3a",
   "metadata": {},
   "outputs": [],
   "source": [
    "ead_targets_test_temp = ead_targets_test_temp.reset_index(drop = True)"
   ]
  },
  {
   "cell_type": "code",
   "execution_count": 253,
   "id": "1a31b0ce-473b-4d4e-a9ff-970b407710f6",
   "metadata": {},
   "outputs": [
    {
     "data": {
      "text/html": [
       "<div>\n",
       "<style scoped>\n",
       "    .dataframe tbody tr th:only-of-type {\n",
       "        vertical-align: middle;\n",
       "    }\n",
       "\n",
       "    .dataframe tbody tr th {\n",
       "        vertical-align: top;\n",
       "    }\n",
       "\n",
       "    .dataframe thead th {\n",
       "        text-align: right;\n",
       "    }\n",
       "</style>\n",
       "<table border=\"1\" class=\"dataframe\">\n",
       "  <thead>\n",
       "    <tr style=\"text-align: right;\">\n",
       "      <th></th>\n",
       "      <th>CCF</th>\n",
       "      <th>0</th>\n",
       "    </tr>\n",
       "  </thead>\n",
       "  <tbody>\n",
       "    <tr>\n",
       "      <th>CCF</th>\n",
       "      <td>1.000000</td>\n",
       "      <td>0.530654</td>\n",
       "    </tr>\n",
       "    <tr>\n",
       "      <th>0</th>\n",
       "      <td>0.530654</td>\n",
       "      <td>1.000000</td>\n",
       "    </tr>\n",
       "  </tbody>\n",
       "</table>\n",
       "</div>"
      ],
      "text/plain": [
       "          CCF         0\n",
       "CCF  1.000000  0.530654\n",
       "0    0.530654  1.000000"
      ]
     },
     "execution_count": 253,
     "metadata": {},
     "output_type": "execute_result"
    }
   ],
   "source": [
    "pd.concat([ead_targets_test_temp, pd.DataFrame(y_hat_test_ead)], axis = 1).corr()"
   ]
  },
  {
   "cell_type": "code",
   "execution_count": 254,
   "id": "e9b36a97-0f8b-4222-a2d0-53e5e9f239ed",
   "metadata": {},
   "outputs": [
    {
     "data": {
      "text/plain": [
       "<Axes: xlabel='CCF', ylabel='Density'>"
      ]
     },
     "execution_count": 254,
     "metadata": {},
     "output_type": "execute_result"
    },
    {
     "data": {
      "image/png": "[encoded data removed]",
      "text/plain": [
       "<Figure size 640x480 with 1 Axes>"
      ]
     },
     "metadata": {},
     "output_type": "display_data"
    }
   ],
   "source": [
    "sns.distplot(y_test_ead - y_hat_test_ead)"
   ]
  },
  {
   "cell_type": "code",
   "execution_count": 255,
   "id": "5dc697ff-deb6-47ef-84d8-6f95c23a18c9",
   "metadata": {},
   "outputs": [
    {
     "data": {
      "text/html": [
       "<div>\n",
       "<style scoped>\n",
       "    .dataframe tbody tr th:only-of-type {\n",
       "        vertical-align: middle;\n",
       "    }\n",
       "\n",
       "    .dataframe tbody tr th {\n",
       "        vertical-align: top;\n",
       "    }\n",
       "\n",
       "    .dataframe thead th {\n",
       "        text-align: right;\n",
       "    }\n",
       "</style>\n",
       "<table border=\"1\" class=\"dataframe\">\n",
       "  <thead>\n",
       "    <tr style=\"text-align: right;\">\n",
       "      <th></th>\n",
       "      <th>count</th>\n",
       "      <th>mean</th>\n",
       "      <th>std</th>\n",
       "      <th>min</th>\n",
       "      <th>25%</th>\n",
       "      <th>50%</th>\n",
       "      <th>75%</th>\n",
       "      <th>max</th>\n",
       "    </tr>\n",
       "  </thead>\n",
       "  <tbody>\n",
       "    <tr>\n",
       "      <th>0</th>\n",
       "      <td>8648.0</td>\n",
       "      <td>0.736013</td>\n",
       "      <td>0.105194</td>\n",
       "      <td>0.384774</td>\n",
       "      <td>0.661553</td>\n",
       "      <td>0.73175</td>\n",
       "      <td>0.810625</td>\n",
       "      <td>1.161088</td>\n",
       "    </tr>\n",
       "  </tbody>\n",
       "</table>\n",
       "</div>"
      ],
      "text/plain": [
       "    count      mean       std       min       25%      50%       75%       max\n",
       "0  8648.0  0.736013  0.105194  0.384774  0.661553  0.73175  0.810625  1.161088"
      ]
     },
     "execution_count": 255,
     "metadata": {},
     "output_type": "execute_result"
    }
   ],
   "source": [
    "pd.DataFrame(y_hat_test_ead).describe().T"
   ]
  },
  {
   "cell_type": "code",
   "execution_count": 257,
   "id": "cef4fb9f-7459-4f11-a68f-9c49edf0c138",
   "metadata": {},
   "outputs": [],
   "source": [
    "#Observation: CCF > 1\n",
    "#Need further investigation, there could be multiple reasons:\n",
    "#Limit has been increased in between\n",
    "#Interest rate and penalties has been added because of non-payment"
   ]
  },
  {
   "cell_type": "markdown",
   "id": "524dac7c-c3fd-49c6-8f3b-8f25be538fdb",
   "metadata": {},
   "source": [
    "# Expected Loss"
   ]
  },
  {
   "cell_type": "markdown",
   "id": "8104e9d8-0c1c-4468-a498-ade8def984bd",
   "metadata": {},
   "source": [
    "### EL = PD * LGD * EAD"
   ]
  },
  {
   "cell_type": "code",
   "execution_count": 281,
   "id": "260fba16-ebe6-46da-a557-e0ed752d85ca",
   "metadata": {},
   "outputs": [],
   "source": [
    "##LGD"
   ]
  },
  {
   "cell_type": "code",
   "execution_count": 260,
   "id": "81a4d104-624e-421a-baac-0d64098601c8",
   "metadata": {},
   "outputs": [],
   "source": [
    "loan_data_preprocessed['mths_since_last_delinq'].fillna(0, inplace = True)\n",
    "loan_data_preprocessed['mths_since_last_record'].fillna(0, inplace = True)"
   ]
  },
  {
   "cell_type": "code",
   "execution_count": 261,
   "id": "95bba462-3120-488c-96d7-3d287ab4857e",
   "metadata": {},
   "outputs": [],
   "source": [
    "loan_data_preprocessed_lgd_ead = loan_data_preprocessed[features_all]"
   ]
  },
  {
   "cell_type": "code",
   "execution_count": 263,
   "id": "e4ce4c21-ddca-415a-9455-bff40b6532a6",
   "metadata": {},
   "outputs": [],
   "source": [
    "loan_data_preprocessed_lgd_ead = loan_data_preprocessed_lgd_ead.drop(features_reference_cat, axis = 1)"
   ]
  },
  {
   "cell_type": "code",
   "execution_count": 264,
   "id": "d2bd1288-cf47-4a3c-927b-e5db7b9d993e",
   "metadata": {},
   "outputs": [],
   "source": [
    "#LGD = 1 - recovery rate"
   ]
  },
  {
   "cell_type": "code",
   "execution_count": 265,
   "id": "137ecc90-f015-4381-9345-af1ce3d5f956",
   "metadata": {},
   "outputs": [],
   "source": [
    "loan_data_preprocessed['recovery_rate_s_1'] = reg_lgd_s_1.model.predict(\n",
    "    loan_data_preprocessed_lgd_ead\n",
    ")"
   ]
  },
  {
   "cell_type": "code",
   "execution_count": 271,
   "id": "0facf1bd-955a-4c70-9e37-e2f4b0d69d1e",
   "metadata": {},
   "outputs": [],
   "source": [
    "loan_data_preprocessed['recovery_rate_s_2'] = reg_lgd_s2.predict(\n",
    "    loan_data_preprocessed_lgd_ead\n",
    ")"
   ]
  },
  {
   "cell_type": "code",
   "execution_count": 272,
   "id": "3bdb837c-a141-4b43-8a20-6184aa2f7fac",
   "metadata": {},
   "outputs": [],
   "source": [
    "loan_data_preprocessed['recovery_rate'] = loan_data_preprocessed['recovery_rate_s_1'] * loan_data_preprocessed['recovery_rate_s_2']"
   ]
  },
  {
   "cell_type": "code",
   "execution_count": 273,
   "id": "7e1b8c3d-8f6e-4bd1-b336-cff48058f5ac",
   "metadata": {},
   "outputs": [],
   "source": [
    "loan_data_preprocessed['recovery_rate'] = np.where(\n",
    "    loan_data_preprocessed['recovery_rate'] < 0, 0, loan_data_preprocessed['recovery_rate']\n",
    ")\n",
    "\n",
    "loan_data_preprocessed['recovery_rate'] = np.where(\n",
    "    loan_data_preprocessed['recovery_rate'] > 1, 1, loan_data_preprocessed['recovery_rate']\n",
    ")"
   ]
  },
  {
   "cell_type": "code",
   "execution_count": 274,
   "id": "9b8c8ea6-76a1-442c-9ab3-6463c978ef00",
   "metadata": {},
   "outputs": [],
   "source": [
    "loan_data_preprocessed['LGD'] = 1 - loan_data_preprocessed['recovery_rate']"
   ]
  },
  {
   "cell_type": "code",
   "execution_count": 276,
   "id": "99717f4e-f484-4244-8d0f-b41349f87561",
   "metadata": {},
   "outputs": [
    {
     "data": {
      "text/plain": [
       "count    466285.000000\n",
       "mean          0.921500\n",
       "std           0.057370\n",
       "min           0.659786\n",
       "25%           0.874305\n",
       "50%           0.900328\n",
       "75%           1.000000\n",
       "max           1.000000\n",
       "Name: LGD, dtype: float64"
      ]
     },
     "execution_count": 276,
     "metadata": {},
     "output_type": "execute_result"
    }
   ],
   "source": [
    "loan_data_preprocessed['LGD'].describe()"
   ]
  },
  {
   "cell_type": "code",
   "execution_count": 283,
   "id": "293eeb72-f82f-459d-a052-2834d1450eb3",
   "metadata": {},
   "outputs": [],
   "source": [
    "##EAD"
   ]
  },
  {
   "cell_type": "code",
   "execution_count": 277,
   "id": "21976964-3fc0-4867-8010-b7c7f68271da",
   "metadata": {},
   "outputs": [],
   "source": [
    "loan_data_preprocessed['CCF'] = reg_ead.predict(loan_data_preprocessed_lgd_ead)"
   ]
  },
  {
   "cell_type": "code",
   "execution_count": 278,
   "id": "0dd0e4af-f445-49c6-9de8-5b2d91a587ce",
   "metadata": {},
   "outputs": [],
   "source": [
    "loan_data_preprocessed['CCF'] = np.where(\n",
    "    loan_data_preprocessed['CCF'] < 0, 0, loan_data_preprocessed['CCF']\n",
    ")\n",
    "\n",
    "loan_data_preprocessed['CCF'] = np.where(\n",
    "    loan_data_preprocessed['CCF'] > 1, 1, loan_data_preprocessed['CCF']\n",
    ")"
   ]
  },
  {
   "cell_type": "markdown",
   "id": "8d24b24e-5642-448d-9b55-1a8fb450d007",
   "metadata": {},
   "source": [
    "#### EAD = CCF * funded amount"
   ]
  },
  {
   "cell_type": "code",
   "execution_count": 279,
   "id": "9c788c95-2c42-43a7-9f76-30a6356c0eb7",
   "metadata": {},
   "outputs": [],
   "source": [
    "loan_data_preprocessed['EAD'] = loan_data_preprocessed['CCF'] * loan_data_preprocessed['funded_amnt']"
   ]
  },
  {
   "cell_type": "code",
   "execution_count": 280,
   "id": "e49c2045-6819-46ad-9b32-5d0e09208394",
   "metadata": {},
   "outputs": [
    {
     "data": {
      "text/plain": [
       "count    466285.000000\n",
       "mean      10814.846760\n",
       "std        6935.184562\n",
       "min         190.347372\n",
       "25%        5495.101413\n",
       "50%        9208.479591\n",
       "75%       14692.844549\n",
       "max       35000.000000\n",
       "Name: EAD, dtype: float64"
      ]
     },
     "execution_count": 280,
     "metadata": {},
     "output_type": "execute_result"
    }
   ],
   "source": [
    "loan_data_preprocessed['EAD'].describe()"
   ]
  },
  {
   "cell_type": "code",
   "execution_count": 284,
   "id": "e0f808d6-630f-4bbd-b957-bb2f06e78235",
   "metadata": {},
   "outputs": [],
   "source": [
    "##PD"
   ]
  },
  {
   "cell_type": "code",
   "execution_count": 285,
   "id": "7bf8bf85-9091-4238-8e17-bfac9435a951",
   "metadata": {},
   "outputs": [],
   "source": [
    "X_train_loan_data = pd.read_csv('X_train_loan_data.csv')\n",
    "X_test_loan_data = pd.read_csv('X_test_loan_data.csv')"
   ]
  },
  {
   "cell_type": "code",
   "execution_count": 297,
   "id": "1ccf6ba7-f8df-4fb8-86ae-cff5304ef5a4",
   "metadata": {},
   "outputs": [],
   "source": [
    "loan_data_inputs_pd = pd.concat([X_train_loan_data, X_test_loan_data], axis = 0)"
   ]
  },
  {
   "cell_type": "code",
   "execution_count": 298,
   "id": "07d44f4d-2e7d-430a-8a5d-d54d47f07bd7",
   "metadata": {},
   "outputs": [
    {
     "data": {
      "text/plain": [
       "(466285, 316)"
      ]
     },
     "execution_count": 298,
     "metadata": {},
     "output_type": "execute_result"
    }
   ],
   "source": [
    "loan_data_inputs_pd.shape"
   ]
  },
  {
   "cell_type": "code",
   "execution_count": 299,
   "id": "edf4b3a9-a8b3-4443-943f-dad0675aa345",
   "metadata": {},
   "outputs": [
    {
     "data": {
      "text/html": [
       "<div>\n",
       "<style scoped>\n",
       "    .dataframe tbody tr th:only-of-type {\n",
       "        vertical-align: middle;\n",
       "    }\n",
       "\n",
       "    .dataframe tbody tr th {\n",
       "        vertical-align: top;\n",
       "    }\n",
       "\n",
       "    .dataframe thead th {\n",
       "        text-align: right;\n",
       "    }\n",
       "</style>\n",
       "<table border=\"1\" class=\"dataframe\">\n",
       "  <thead>\n",
       "    <tr style=\"text-align: right;\">\n",
       "      <th></th>\n",
       "      <th>Unnamed: 0.1</th>\n",
       "      <th>Unnamed: 0</th>\n",
       "      <th>id</th>\n",
       "      <th>member_id</th>\n",
       "      <th>loan_amnt</th>\n",
       "      <th>funded_amnt</th>\n",
       "      <th>funded_amnt_inv</th>\n",
       "      <th>term</th>\n",
       "      <th>int_rate</th>\n",
       "      <th>installment</th>\n",
       "      <th>...</th>\n",
       "      <th>dti:22.4-35</th>\n",
       "      <th>dti:&gt;35</th>\n",
       "      <th>mths_since_last_record_factor</th>\n",
       "      <th>mths_since_last_record:Missing</th>\n",
       "      <th>mths_since_last_record:0-2</th>\n",
       "      <th>mths_since_last_record:3-20</th>\n",
       "      <th>mths_since_last_record:21-31</th>\n",
       "      <th>mths_since_last_record:32-80</th>\n",
       "      <th>mths_since_last_record:81-86</th>\n",
       "      <th>mths_since_last_record:&gt;86</th>\n",
       "    </tr>\n",
       "  </thead>\n",
       "  <tbody>\n",
       "    <tr>\n",
       "      <th>0</th>\n",
       "      <td>427211</td>\n",
       "      <td>427211</td>\n",
       "      <td>12796369</td>\n",
       "      <td>14818505</td>\n",
       "      <td>24000</td>\n",
       "      <td>24000</td>\n",
       "      <td>24000.0</td>\n",
       "      <td>36 months</td>\n",
       "      <td>8.90</td>\n",
       "      <td>762.08</td>\n",
       "      <td>...</td>\n",
       "      <td>0</td>\n",
       "      <td>0</td>\n",
       "      <td>NaN</td>\n",
       "      <td>1</td>\n",
       "      <td>0</td>\n",
       "      <td>0</td>\n",
       "      <td>0</td>\n",
       "      <td>0</td>\n",
       "      <td>0</td>\n",
       "      <td>0</td>\n",
       "    </tr>\n",
       "    <tr>\n",
       "      <th>1</th>\n",
       "      <td>206088</td>\n",
       "      <td>206088</td>\n",
       "      <td>1439740</td>\n",
       "      <td>1691948</td>\n",
       "      <td>10000</td>\n",
       "      <td>10000</td>\n",
       "      <td>10000.0</td>\n",
       "      <td>36 months</td>\n",
       "      <td>14.33</td>\n",
       "      <td>343.39</td>\n",
       "      <td>...</td>\n",
       "      <td>0</td>\n",
       "      <td>0</td>\n",
       "      <td>NaN</td>\n",
       "      <td>1</td>\n",
       "      <td>0</td>\n",
       "      <td>0</td>\n",
       "      <td>0</td>\n",
       "      <td>0</td>\n",
       "      <td>0</td>\n",
       "      <td>0</td>\n",
       "    </tr>\n",
       "    <tr>\n",
       "      <th>2</th>\n",
       "      <td>136020</td>\n",
       "      <td>136020</td>\n",
       "      <td>5214749</td>\n",
       "      <td>6556909</td>\n",
       "      <td>20425</td>\n",
       "      <td>20425</td>\n",
       "      <td>20425.0</td>\n",
       "      <td>36 months</td>\n",
       "      <td>8.90</td>\n",
       "      <td>648.56</td>\n",
       "      <td>...</td>\n",
       "      <td>0</td>\n",
       "      <td>0</td>\n",
       "      <td>NaN</td>\n",
       "      <td>1</td>\n",
       "      <td>0</td>\n",
       "      <td>0</td>\n",
       "      <td>0</td>\n",
       "      <td>0</td>\n",
       "      <td>0</td>\n",
       "      <td>0</td>\n",
       "    </tr>\n",
       "    <tr>\n",
       "      <th>3</th>\n",
       "      <td>412305</td>\n",
       "      <td>412305</td>\n",
       "      <td>13827698</td>\n",
       "      <td>15890016</td>\n",
       "      <td>17200</td>\n",
       "      <td>17200</td>\n",
       "      <td>17200.0</td>\n",
       "      <td>36 months</td>\n",
       "      <td>16.59</td>\n",
       "      <td>609.73</td>\n",
       "      <td>...</td>\n",
       "      <td>0</td>\n",
       "      <td>0</td>\n",
       "      <td>NaN</td>\n",
       "      <td>1</td>\n",
       "      <td>0</td>\n",
       "      <td>0</td>\n",
       "      <td>0</td>\n",
       "      <td>0</td>\n",
       "      <td>0</td>\n",
       "      <td>0</td>\n",
       "    </tr>\n",
       "    <tr>\n",
       "      <th>4</th>\n",
       "      <td>36159</td>\n",
       "      <td>36159</td>\n",
       "      <td>422455</td>\n",
       "      <td>496525</td>\n",
       "      <td>8400</td>\n",
       "      <td>8400</td>\n",
       "      <td>7450.0</td>\n",
       "      <td>36 months</td>\n",
       "      <td>12.84</td>\n",
       "      <td>282.40</td>\n",
       "      <td>...</td>\n",
       "      <td>1</td>\n",
       "      <td>0</td>\n",
       "      <td>NaN</td>\n",
       "      <td>1</td>\n",
       "      <td>0</td>\n",
       "      <td>0</td>\n",
       "      <td>0</td>\n",
       "      <td>0</td>\n",
       "      <td>0</td>\n",
       "      <td>0</td>\n",
       "    </tr>\n",
       "  </tbody>\n",
       "</table>\n",
       "<p>5 rows × 316 columns</p>\n",
       "</div>"
      ],
      "text/plain": [
       "   Unnamed: 0.1  Unnamed: 0        id  member_id  loan_amnt  funded_amnt  \\\n",
       "0        427211      427211  12796369   14818505      24000        24000   \n",
       "1        206088      206088   1439740    1691948      10000        10000   \n",
       "2        136020      136020   5214749    6556909      20425        20425   \n",
       "3        412305      412305  13827698   15890016      17200        17200   \n",
       "4         36159       36159    422455     496525       8400         8400   \n",
       "\n",
       "   funded_amnt_inv        term  int_rate  installment  ... dti:22.4-35  \\\n",
       "0          24000.0   36 months      8.90       762.08  ...           0   \n",
       "1          10000.0   36 months     14.33       343.39  ...           0   \n",
       "2          20425.0   36 months      8.90       648.56  ...           0   \n",
       "3          17200.0   36 months     16.59       609.73  ...           0   \n",
       "4           7450.0   36 months     12.84       282.40  ...           1   \n",
       "\n",
       "  dti:>35 mths_since_last_record_factor mths_since_last_record:Missing  \\\n",
       "0       0                           NaN                              1   \n",
       "1       0                           NaN                              1   \n",
       "2       0                           NaN                              1   \n",
       "3       0                           NaN                              1   \n",
       "4       0                           NaN                              1   \n",
       "\n",
       "  mths_since_last_record:0-2  mths_since_last_record:3-20  \\\n",
       "0                          0                            0   \n",
       "1                          0                            0   \n",
       "2                          0                            0   \n",
       "3                          0                            0   \n",
       "4                          0                            0   \n",
       "\n",
       "  mths_since_last_record:21-31 mths_since_last_record:32-80  \\\n",
       "0                            0                            0   \n",
       "1                            0                            0   \n",
       "2                            0                            0   \n",
       "3                            0                            0   \n",
       "4                            0                            0   \n",
       "\n",
       "  mths_since_last_record:81-86 mths_since_last_record:>86  \n",
       "0                            0                          0  \n",
       "1                            0                          0  \n",
       "2                            0                          0  \n",
       "3                            0                          0  \n",
       "4                            0                          0  \n",
       "\n",
       "[5 rows x 316 columns]"
      ]
     },
     "execution_count": 299,
     "metadata": {},
     "output_type": "execute_result"
    }
   ],
   "source": [
    "loan_data_inputs_pd.head()"
   ]
  },
  {
   "cell_type": "code",
   "execution_count": 300,
   "id": "3f5ba392-ef40-48df-bc56-76113e57dbd5",
   "metadata": {},
   "outputs": [],
   "source": [
    "#We need to match rows for all 3 components\n",
    "loan_data_inputs_pd = loan_data_inputs_pd.set_index('Unnamed: 0')"
   ]
  },
  {
   "cell_type": "code",
   "execution_count": 301,
   "id": "49178fe9-afc0-462c-96db-cacc4cc280d8",
   "metadata": {},
   "outputs": [
    {
     "data": {
      "text/html": [
       "<div>\n",
       "<style scoped>\n",
       "    .dataframe tbody tr th:only-of-type {\n",
       "        vertical-align: middle;\n",
       "    }\n",
       "\n",
       "    .dataframe tbody tr th {\n",
       "        vertical-align: top;\n",
       "    }\n",
       "\n",
       "    .dataframe thead th {\n",
       "        text-align: right;\n",
       "    }\n",
       "</style>\n",
       "<table border=\"1\" class=\"dataframe\">\n",
       "  <thead>\n",
       "    <tr style=\"text-align: right;\">\n",
       "      <th></th>\n",
       "      <th>Unnamed: 0.1</th>\n",
       "      <th>id</th>\n",
       "      <th>member_id</th>\n",
       "      <th>loan_amnt</th>\n",
       "      <th>funded_amnt</th>\n",
       "      <th>funded_amnt_inv</th>\n",
       "      <th>term</th>\n",
       "      <th>int_rate</th>\n",
       "      <th>installment</th>\n",
       "      <th>grade</th>\n",
       "      <th>...</th>\n",
       "      <th>dti:22.4-35</th>\n",
       "      <th>dti:&gt;35</th>\n",
       "      <th>mths_since_last_record_factor</th>\n",
       "      <th>mths_since_last_record:Missing</th>\n",
       "      <th>mths_since_last_record:0-2</th>\n",
       "      <th>mths_since_last_record:3-20</th>\n",
       "      <th>mths_since_last_record:21-31</th>\n",
       "      <th>mths_since_last_record:32-80</th>\n",
       "      <th>mths_since_last_record:81-86</th>\n",
       "      <th>mths_since_last_record:&gt;86</th>\n",
       "    </tr>\n",
       "    <tr>\n",
       "      <th>Unnamed: 0</th>\n",
       "      <th></th>\n",
       "      <th></th>\n",
       "      <th></th>\n",
       "      <th></th>\n",
       "      <th></th>\n",
       "      <th></th>\n",
       "      <th></th>\n",
       "      <th></th>\n",
       "      <th></th>\n",
       "      <th></th>\n",
       "      <th></th>\n",
       "      <th></th>\n",
       "      <th></th>\n",
       "      <th></th>\n",
       "      <th></th>\n",
       "      <th></th>\n",
       "      <th></th>\n",
       "      <th></th>\n",
       "      <th></th>\n",
       "      <th></th>\n",
       "      <th></th>\n",
       "    </tr>\n",
       "  </thead>\n",
       "  <tbody>\n",
       "    <tr>\n",
       "      <th>427211</th>\n",
       "      <td>427211</td>\n",
       "      <td>12796369</td>\n",
       "      <td>14818505</td>\n",
       "      <td>24000</td>\n",
       "      <td>24000</td>\n",
       "      <td>24000.0</td>\n",
       "      <td>36 months</td>\n",
       "      <td>8.90</td>\n",
       "      <td>762.08</td>\n",
       "      <td>A</td>\n",
       "      <td>...</td>\n",
       "      <td>0</td>\n",
       "      <td>0</td>\n",
       "      <td>NaN</td>\n",
       "      <td>1</td>\n",
       "      <td>0</td>\n",
       "      <td>0</td>\n",
       "      <td>0</td>\n",
       "      <td>0</td>\n",
       "      <td>0</td>\n",
       "      <td>0</td>\n",
       "    </tr>\n",
       "    <tr>\n",
       "      <th>206088</th>\n",
       "      <td>206088</td>\n",
       "      <td>1439740</td>\n",
       "      <td>1691948</td>\n",
       "      <td>10000</td>\n",
       "      <td>10000</td>\n",
       "      <td>10000.0</td>\n",
       "      <td>36 months</td>\n",
       "      <td>14.33</td>\n",
       "      <td>343.39</td>\n",
       "      <td>C</td>\n",
       "      <td>...</td>\n",
       "      <td>0</td>\n",
       "      <td>0</td>\n",
       "      <td>NaN</td>\n",
       "      <td>1</td>\n",
       "      <td>0</td>\n",
       "      <td>0</td>\n",
       "      <td>0</td>\n",
       "      <td>0</td>\n",
       "      <td>0</td>\n",
       "      <td>0</td>\n",
       "    </tr>\n",
       "    <tr>\n",
       "      <th>136020</th>\n",
       "      <td>136020</td>\n",
       "      <td>5214749</td>\n",
       "      <td>6556909</td>\n",
       "      <td>20425</td>\n",
       "      <td>20425</td>\n",
       "      <td>20425.0</td>\n",
       "      <td>36 months</td>\n",
       "      <td>8.90</td>\n",
       "      <td>648.56</td>\n",
       "      <td>A</td>\n",
       "      <td>...</td>\n",
       "      <td>0</td>\n",
       "      <td>0</td>\n",
       "      <td>NaN</td>\n",
       "      <td>1</td>\n",
       "      <td>0</td>\n",
       "      <td>0</td>\n",
       "      <td>0</td>\n",
       "      <td>0</td>\n",
       "      <td>0</td>\n",
       "      <td>0</td>\n",
       "    </tr>\n",
       "    <tr>\n",
       "      <th>412305</th>\n",
       "      <td>412305</td>\n",
       "      <td>13827698</td>\n",
       "      <td>15890016</td>\n",
       "      <td>17200</td>\n",
       "      <td>17200</td>\n",
       "      <td>17200.0</td>\n",
       "      <td>36 months</td>\n",
       "      <td>16.59</td>\n",
       "      <td>609.73</td>\n",
       "      <td>D</td>\n",
       "      <td>...</td>\n",
       "      <td>0</td>\n",
       "      <td>0</td>\n",
       "      <td>NaN</td>\n",
       "      <td>1</td>\n",
       "      <td>0</td>\n",
       "      <td>0</td>\n",
       "      <td>0</td>\n",
       "      <td>0</td>\n",
       "      <td>0</td>\n",
       "      <td>0</td>\n",
       "    </tr>\n",
       "    <tr>\n",
       "      <th>36159</th>\n",
       "      <td>36159</td>\n",
       "      <td>422455</td>\n",
       "      <td>496525</td>\n",
       "      <td>8400</td>\n",
       "      <td>8400</td>\n",
       "      <td>7450.0</td>\n",
       "      <td>36 months</td>\n",
       "      <td>12.84</td>\n",
       "      <td>282.40</td>\n",
       "      <td>C</td>\n",
       "      <td>...</td>\n",
       "      <td>1</td>\n",
       "      <td>0</td>\n",
       "      <td>NaN</td>\n",
       "      <td>1</td>\n",
       "      <td>0</td>\n",
       "      <td>0</td>\n",
       "      <td>0</td>\n",
       "      <td>0</td>\n",
       "      <td>0</td>\n",
       "      <td>0</td>\n",
       "    </tr>\n",
       "  </tbody>\n",
       "</table>\n",
       "<p>5 rows × 315 columns</p>\n",
       "</div>"
      ],
      "text/plain": [
       "            Unnamed: 0.1        id  member_id  loan_amnt  funded_amnt  \\\n",
       "Unnamed: 0                                                              \n",
       "427211            427211  12796369   14818505      24000        24000   \n",
       "206088            206088   1439740    1691948      10000        10000   \n",
       "136020            136020   5214749    6556909      20425        20425   \n",
       "412305            412305  13827698   15890016      17200        17200   \n",
       "36159              36159    422455     496525       8400         8400   \n",
       "\n",
       "            funded_amnt_inv        term  int_rate  installment grade  ...  \\\n",
       "Unnamed: 0                                                            ...   \n",
       "427211              24000.0   36 months      8.90       762.08     A  ...   \n",
       "206088              10000.0   36 months     14.33       343.39     C  ...   \n",
       "136020              20425.0   36 months      8.90       648.56     A  ...   \n",
       "412305              17200.0   36 months     16.59       609.73     D  ...   \n",
       "36159                7450.0   36 months     12.84       282.40     C  ...   \n",
       "\n",
       "           dti:22.4-35 dti:>35 mths_since_last_record_factor  \\\n",
       "Unnamed: 0                                                     \n",
       "427211               0       0                           NaN   \n",
       "206088               0       0                           NaN   \n",
       "136020               0       0                           NaN   \n",
       "412305               0       0                           NaN   \n",
       "36159                1       0                           NaN   \n",
       "\n",
       "           mths_since_last_record:Missing  mths_since_last_record:0-2  \\\n",
       "Unnamed: 0                                                              \n",
       "427211                                  1                           0   \n",
       "206088                                  1                           0   \n",
       "136020                                  1                           0   \n",
       "412305                                  1                           0   \n",
       "36159                                   1                           0   \n",
       "\n",
       "           mths_since_last_record:3-20 mths_since_last_record:21-31  \\\n",
       "Unnamed: 0                                                            \n",
       "427211                               0                            0   \n",
       "206088                               0                            0   \n",
       "136020                               0                            0   \n",
       "412305                               0                            0   \n",
       "36159                                0                            0   \n",
       "\n",
       "           mths_since_last_record:32-80 mths_since_last_record:81-86  \\\n",
       "Unnamed: 0                                                             \n",
       "427211                                0                            0   \n",
       "206088                                0                            0   \n",
       "136020                                0                            0   \n",
       "412305                                0                            0   \n",
       "36159                                 0                            0   \n",
       "\n",
       "           mths_since_last_record:>86  \n",
       "Unnamed: 0                             \n",
       "427211                              0  \n",
       "206088                              0  \n",
       "136020                              0  \n",
       "412305                              0  \n",
       "36159                               0  \n",
       "\n",
       "[5 rows x 315 columns]"
      ]
     },
     "execution_count": 301,
     "metadata": {},
     "output_type": "execute_result"
    }
   ],
   "source": [
    "loan_data_inputs_pd.head()"
   ]
  },
  {
   "cell_type": "code",
   "execution_count": 323,
   "id": "cacb0e3b-6945-4f61-89db-74050b056193",
   "metadata": {},
   "outputs": [],
   "source": [
    "features_all_pd = [\n",
    "'grade:A',\n",
    "'grade:B',\n",
    "'grade:C',\n",
    "'grade:D',\n",
    "'grade:E',\n",
    "'grade:F',\n",
    "'grade:G',\n",
    "'home_ownership:Rent_Other_None_Any',\n",
    "'home_ownership:OWN',\n",
    "'home_ownership:MORTGAGE',\n",
    "'verification_status:Not Verified',\n",
    "'verification_status:Source Verified',\n",
    "'verification_status:Verified',\n",
    "'purpose:educ__sm_b__wedd__ren_en__mov__house',\n",
    "'purpose:credit_card',\n",
    "'purpose:debt_consolidation',\n",
    "'purpose:oth__med__vacation',\n",
    "'purpose:major_purch__car__home_impr',\n",
    "'initial_list_status:f',\n",
    "'initial_list_status:w',\n",
    "'term:36',\n",
    "'term:60',\n",
    "'emp_length_int:0',\n",
    "'emp_length_int:1',\n",
    "'emp_length_int:2-4',\n",
    "'emp_length_int:5-6',\n",
    "'emp_length_int:7-9',\n",
    "'emp_length_int:10',\n",
    "'mths_since_issue_d:<38',\n",
    "'mths_since_issue_d:38-39',\n",
    "'mths_since_issue_d:40-41',\n",
    "'mths_since_issue_d:42-48',\n",
    "'mths_since_issue_d:49-52',\n",
    "'mths_since_issue_d:53-64',\n",
    "'mths_since_issue_d:65-84',\n",
    "'mths_since_issue_d:>84',\n",
    "'int_rate:<9.548',\n",
    "'int_rate:9.548-12.025',\n",
    "'int_rate:12.025-15.74',\n",
    "'int_rate:15.74-20.281',\n",
    "'int_rate:>20.281',\n",
    "'month_since_earliest_cr_line:<140',\n",
    "'month_since_earliest_cr_line:141-164',\n",
    "'month_since_earliest_cr_line:165-247',\n",
    "'month_since_earliest_cr_line:248-270',\n",
    "'month_since_earliest_cr_line:271-352',\n",
    "'month_since_earliest_cr_line:>352',\n",
    "'inq_last_6mths:0',\n",
    "'inq_last_6mths:1-2',\n",
    "'inq_last_6mths:3-6',\n",
    "'inq_last_6mths:>6',\n",
    "'total_acc:<=27',\n",
    "'total_acc:28-51',\n",
    "'total_acc:>=52',\n",
    "'annual_inc:<20K',\n",
    "'annual_inc:20K-30K',\n",
    "'annual_inc:30K-40K',\n",
    "'annual_inc:40K-50K',\n",
    "'annual_inc:50K-60K',\n",
    "'annual_inc:60K-70K',\n",
    "'annual_inc:70K-80K',\n",
    "'annual_inc:80K-90K',\n",
    "'annual_inc:90K-100K',\n",
    "'annual_inc:100K-120K',\n",
    "'annual_inc:120K-140K',\n",
    "'annual_inc:>140K',\n",
    "'mths_since_last_delinq:0-3',\n",
    "'mths_since_last_delinq:4-30',\n",
    "'mths_since_last_delinq:31-56',\n",
    "'mths_since_last_delinq:>=57',\n",
    "'mths_since_last_record:0-2',\n",
    "'mths_since_last_record:3-20',\n",
    "'mths_since_last_record:21-31',\n",
    "'mths_since_last_record:32-80',\n",
    "'mths_since_last_record:81-86',\n",
    "'mths_since_last_record:>86'\n",
    "]"
   ]
  },
  {
   "cell_type": "code",
   "execution_count": 324,
   "id": "11d0c9bb-c033-4f3f-a257-c434853351c3",
   "metadata": {},
   "outputs": [],
   "source": [
    "# Here we store the names of the reference category dummy variables in a list.\n",
    "ref_categories_pd = [\n",
    "        'grade:G',\n",
    "        'home_ownership:Rent_Other_None_Any',\n",
    "        'addr_state:ND_NE_IA_NV_FL_HI_AL',\n",
    "        'verification_status:Verified',\n",
    "        'purpose:educ__sm_b__wedd__ren_en__mov__house',\n",
    "        'initial_list_status:f',\n",
    "        'term:60',\n",
    "        'emp_length_int:0',\n",
    "        'mths_since_issue_d:>84',\n",
    "        'int_rate:>20.281',\n",
    "        'month_since_earliest_cr_line:<140',\n",
    "        'inq_last_6mths:>6',\n",
    "        'pub_rec:0-2',\n",
    "        'total_acc:<=27',\n",
    "        'acc_now_delinq:0',\n",
    "        'annual_inc:<20K',\n",
    "        'mths_since_last_delinq:0-3',\n",
    "        'mths_since_last_record:0-2']"
   ]
  },
  {
   "cell_type": "code",
   "execution_count": 325,
   "id": "9cbb7049-3276-482f-867b-ec86c5ce342c",
   "metadata": {},
   "outputs": [],
   "source": [
    "loan_data_inputs_pd_temp = loan_data_inputs_pd[features_all_pd]"
   ]
  },
  {
   "cell_type": "code",
   "execution_count": 326,
   "id": "fb312083-4467-44dd-b8c5-4e32d573b387",
   "metadata": {},
   "outputs": [
    {
     "data": {
      "text/plain": [
       "(466285, 76)"
      ]
     },
     "execution_count": 326,
     "metadata": {},
     "output_type": "execute_result"
    }
   ],
   "source": [
    "loan_data_inputs_pd_temp.shape"
   ]
  },
  {
   "cell_type": "code",
   "execution_count": 304,
   "id": "925644a7-8567-4a4b-aceb-1dcd0e4654e2",
   "metadata": {},
   "outputs": [],
   "source": [
    "import pickle"
   ]
  },
  {
   "cell_type": "code",
   "execution_count": 306,
   "id": "1144c2ee-86df-4863-bcb7-f4b140a36a1d",
   "metadata": {},
   "outputs": [],
   "source": [
    "reg_pd = pickle.load(open('pd_model.sav', 'rb'))"
   ]
  },
  {
   "cell_type": "code",
   "execution_count": 334,
   "id": "d3e4d401-5ddf-4bae-aa92-3f0239cd21e9",
   "metadata": {},
   "outputs": [],
   "source": [
    "#PD as a new laon column\n",
    "loan_data_inputs_pd['PD'] = reg_pd.model.predict_proba(loan_data_inputs_pd_temp)[:][:,1]"
   ]
  },
  {
   "cell_type": "code",
   "execution_count": 335,
   "id": "a8cc8d53-a48f-4d1a-9ec0-3836efa02434",
   "metadata": {},
   "outputs": [
    {
     "data": {
      "text/plain": [
       "Unnamed: 0\n",
       "427211    0.053709\n",
       "206088    0.062083\n",
       "136020    0.037114\n",
       "412305    0.108062\n",
       "36159     0.038455\n",
       "Name: PD, dtype: float64"
      ]
     },
     "execution_count": 335,
     "metadata": {},
     "output_type": "execute_result"
    }
   ],
   "source": [
    "loan_data_inputs_pd['PD'].head()"
   ]
  },
  {
   "cell_type": "code",
   "execution_count": 337,
   "id": "bec0d217-c06e-4603-9bbd-80504ea69c54",
   "metadata": {},
   "outputs": [
    {
     "data": {
      "text/plain": [
       "count    466285.000000\n",
       "mean          0.092267\n",
       "std           0.063366\n",
       "min           0.004858\n",
       "25%           0.046599\n",
       "50%           0.074669\n",
       "75%           0.119928\n",
       "max           0.518047\n",
       "Name: PD, dtype: float64"
      ]
     },
     "execution_count": 337,
     "metadata": {},
     "output_type": "execute_result"
    }
   ],
   "source": [
    "loan_data_inputs_pd['PD'].describe()"
   ]
  },
  {
   "cell_type": "code",
   "execution_count": 340,
   "id": "0d2267a6-7cf3-43ab-a486-e863c299c017",
   "metadata": {},
   "outputs": [],
   "source": [
    "loan_data_preprocessed_new = pd.concat([loan_data_preprocessed, loan_data_inputs_pd], axis = 1)"
   ]
  },
  {
   "cell_type": "code",
   "execution_count": 341,
   "id": "743e2eaf-91dd-4a22-a606-3f30a2e3ac61",
   "metadata": {},
   "outputs": [],
   "source": [
    "loan_data_preprocessed_new['EL'] = loan_data_preprocessed_new['PD'] * loan_data_preprocessed_new['LGD'] * loan_data_preprocessed_new['EAD']"
   ]
  },
  {
   "cell_type": "code",
   "execution_count": 342,
   "id": "5bf36bdd-1e2f-4c65-9d5c-aee6e2b8d99f",
   "metadata": {},
   "outputs": [
    {
     "data": {
      "text/plain": [
       "count    466285.000000\n",
       "mean       1060.587923\n",
       "std        1269.176551\n",
       "min           1.928970\n",
       "25%         279.059317\n",
       "50%         567.127932\n",
       "75%        1326.704613\n",
       "max       13923.320110\n",
       "Name: EL, dtype: float64"
      ]
     },
     "execution_count": 342,
     "metadata": {},
     "output_type": "execute_result"
    }
   ],
   "source": [
    "loan_data_preprocessed_new['EL'].describe()"
   ]
  },
  {
   "cell_type": "code",
   "execution_count": 344,
   "id": "fd730f42-33f4-4b64-b2b5-7fce7f68fd20",
   "metadata": {},
   "outputs": [
    {
     "data": {
      "text/html": [
       "<div>\n",
       "<style scoped>\n",
       "    .dataframe tbody tr th:only-of-type {\n",
       "        vertical-align: middle;\n",
       "    }\n",
       "\n",
       "    .dataframe tbody tr th {\n",
       "        vertical-align: top;\n",
       "    }\n",
       "\n",
       "    .dataframe thead th {\n",
       "        text-align: right;\n",
       "    }\n",
       "</style>\n",
       "<table border=\"1\" class=\"dataframe\">\n",
       "  <thead>\n",
       "    <tr style=\"text-align: right;\">\n",
       "      <th></th>\n",
       "      <th>funded_amnt</th>\n",
       "      <th>funded_amnt</th>\n",
       "      <th>PD</th>\n",
       "      <th>LGD</th>\n",
       "      <th>EAD</th>\n",
       "      <th>EL</th>\n",
       "    </tr>\n",
       "  </thead>\n",
       "  <tbody>\n",
       "    <tr>\n",
       "      <th>0</th>\n",
       "      <td>5000</td>\n",
       "      <td>5000</td>\n",
       "      <td>0.046978</td>\n",
       "      <td>0.913729</td>\n",
       "      <td>2949.608449</td>\n",
       "      <td>126.612593</td>\n",
       "    </tr>\n",
       "    <tr>\n",
       "      <th>1</th>\n",
       "      <td>2500</td>\n",
       "      <td>2500</td>\n",
       "      <td>0.069104</td>\n",
       "      <td>0.915482</td>\n",
       "      <td>1944.433378</td>\n",
       "      <td>123.011087</td>\n",
       "    </tr>\n",
       "    <tr>\n",
       "      <th>2</th>\n",
       "      <td>2400</td>\n",
       "      <td>2400</td>\n",
       "      <td>0.061029</td>\n",
       "      <td>0.919484</td>\n",
       "      <td>1579.934302</td>\n",
       "      <td>88.658475</td>\n",
       "    </tr>\n",
       "    <tr>\n",
       "      <th>3</th>\n",
       "      <td>10000</td>\n",
       "      <td>10000</td>\n",
       "      <td>0.048762</td>\n",
       "      <td>0.904924</td>\n",
       "      <td>6606.559612</td>\n",
       "      <td>291.522712</td>\n",
       "    </tr>\n",
       "    <tr>\n",
       "      <th>4</th>\n",
       "      <td>3000</td>\n",
       "      <td>3000</td>\n",
       "      <td>0.039851</td>\n",
       "      <td>0.911453</td>\n",
       "      <td>2124.631667</td>\n",
       "      <td>77.171766</td>\n",
       "    </tr>\n",
       "  </tbody>\n",
       "</table>\n",
       "</div>"
      ],
      "text/plain": [
       "   funded_amnt  funded_amnt        PD       LGD          EAD          EL\n",
       "0         5000         5000  0.046978  0.913729  2949.608449  126.612593\n",
       "1         2500         2500  0.069104  0.915482  1944.433378  123.011087\n",
       "2         2400         2400  0.061029  0.919484  1579.934302   88.658475\n",
       "3        10000        10000  0.048762  0.904924  6606.559612  291.522712\n",
       "4         3000         3000  0.039851  0.911453  2124.631667   77.171766"
      ]
     },
     "execution_count": 344,
     "metadata": {},
     "output_type": "execute_result"
    }
   ],
   "source": [
    "loan_data_preprocessed_new[['funded_amnt', 'PD', 'LGD', 'EAD', 'EL']].head()"
   ]
  },
  {
   "cell_type": "code",
   "execution_count": 345,
   "id": "80306391-246a-45da-9396-daf4d873f6b9",
   "metadata": {},
   "outputs": [
    {
     "data": {
      "text/plain": [
       "494536239.5440697"
      ]
     },
     "execution_count": 345,
     "metadata": {},
     "output_type": "execute_result"
    }
   ],
   "source": [
    "#Total expected loss on portfolio level\n",
    "loan_data_preprocessed_new['EL'].sum()"
   ]
  },
  {
   "cell_type": "code",
   "execution_count": 347,
   "id": "1e77682f-5b85-4df6-81dc-b0c5f3b75ea9",
   "metadata": {},
   "outputs": [
    {
     "data": {
      "text/plain": [
       "funded_amnt    0.07421\n",
       "funded_amnt    0.07421\n",
       "dtype: float64"
      ]
     },
     "execution_count": 347,
     "metadata": {},
     "output_type": "execute_result"
    }
   ],
   "source": [
    "#Total expected loss on portfolio as a proportion of funded amount\n",
    "loan_data_preprocessed_new['EL'].sum() / loan_data_preprocessed_new['funded_amnt'].sum()"
   ]
  },
  {
   "cell_type": "code",
   "execution_count": null,
   "id": "19773257-33ed-4be4-8778-ad168a9ed3f3",
   "metadata": {},
   "outputs": [],
   "source": []
  },
  {
   "cell_type": "code",
   "execution_count": null,
   "id": "4366f1c8-4319-4037-ac13-844d20862958",
   "metadata": {},
   "outputs": [],
   "source": []
  },
  {
   "cell_type": "code",
   "execution_count": null,
   "id": "17bac159-d85f-48aa-8e7b-8dd52ba3a2ed",
   "metadata": {},
   "outputs": [],
   "source": []
  },
  {
   "cell_type": "code",
   "execution_count": null,
   "id": "e8b08afa-a776-42c0-bb56-9e7615528784",
   "metadata": {},
   "outputs": [],
   "source": []
  },
  {
   "cell_type": "code",
   "execution_count": null,
   "id": "9313eb01-ae0c-4944-b069-d7b654603fa7",
   "metadata": {},
   "outputs": [],
   "source": []
  },
  {
   "cell_type": "code",
   "execution_count": null,
   "id": "b43fc05f-140d-4ad7-bcec-95cda6ced1cf",
   "metadata": {},
   "outputs": [],
   "source": []
  },
  {
   "cell_type": "code",
   "execution_count": null,
   "id": "6f88d461-d476-47c2-a2ea-26ee56215864",
   "metadata": {},
   "outputs": [],
   "source": []
  },
  {
   "cell_type": "code",
   "execution_count": null,
   "id": "bedda090-4de9-4e35-b4f3-4d73abadf1f0",
   "metadata": {},
   "outputs": [],
   "source": []
  },
  {
   "cell_type": "code",
   "execution_count": null,
   "id": "261cf6d9-bc78-45ee-9f99-4382bd599f3b",
   "metadata": {},
   "outputs": [],
   "source": []
  }
 ],
 "metadata": {
  "kernelspec": {
   "display_name": "Python 3 (ipykernel)",
   "language": "python",
   "name": "python3"
  },
  "language_info": {
   "codemirror_mode": {
    "name": "ipython",
    "version": 3
   },
   "file_extension": ".py",
   "mimetype": "text/x-python",
   "name": "python",
   "nbconvert_exporter": "python",
   "pygments_lexer": "ipython3",
   "version": "3.11.7"
  }
 },
 "nbformat": 4,
 "nbformat_minor": 5
}
